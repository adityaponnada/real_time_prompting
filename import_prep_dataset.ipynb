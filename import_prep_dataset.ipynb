{
 "cells": [
  {
   "cell_type": "markdown",
   "id": "910898c2",
   "metadata": {},
   "source": [
    "## Dataset preparation\n",
    "This notebook imports participant data from TIME study, keeps only those who completed the study, comutes all the features, then saves two files:\n",
    "1. Feature set for all the users\n",
    "2. A sample of users to try different ML algorithms"
   ]
  },
  {
   "cell_type": "markdown",
   "id": "5a93d803",
   "metadata": {},
   "source": [
    "## Import libraries\n",
    "Import essential libraries here."
   ]
  },
  {
   "cell_type": "code",
   "execution_count": 16,
   "id": "3c3fd69e",
   "metadata": {},
   "outputs": [],
   "source": [
    "import sys\n",
    "import numpy as np\n",
    "import datetime\n",
    "import pandas as pd\n",
    "import matplotlib.pyplot as plt\n",
    "import seaborn as sns\n",
    "import glob"
   ]
  },
  {
   "cell_type": "markdown",
   "id": "5797cc3d",
   "metadata": {},
   "source": [
    "## Import participant status\n",
    "We will import participant status data. So that we can filter out those who completed the study"
   ]
  },
  {
   "cell_type": "code",
   "execution_count": 6,
   "id": "1b2aa2da",
   "metadata": {},
   "outputs": [
    {
     "name": "stdout",
     "output_type": "stream",
     "text": [
      "   Record ID            Visualizer ID Participant Status  Consent Date  \\\n",
      "0       9001       sharpnessnextpouch           Completed    3/17/2020   \n",
      "1       9002     uniformlyharmfulbush          Unenrolled    3/18/2020   \n",
      "2       9003     hacksawscoldingdares            Withdrew    3/27/2020   \n",
      "3       9004    dimnesscranialunheard           Completed    3/28/2020   \n",
      "4       9005  coynessculminatebarista           Completed     4/8/2020   \n",
      "\n",
      "  Date participant completed Date participant withdrew  \\\n",
      "0                  3/17/2021                       NaN   \n",
      "1                        NaN                       NaN   \n",
      "2                        NaN                 12/4/2020   \n",
      "3                  3/28/2021                       NaN   \n",
      "4                   4/8/2021                       NaN   \n",
      "\n",
      "  Date participant unenrolled Date Devices Mailed ID of device loaned  \\\n",
      "0                         NaN           3/25/2020        C2F9214C2188   \n",
      "1                  10/20/2020           3/25/2020        C2F9202C1141   \n",
      "2                         NaN            4/7/2020        C2F9153C0327   \n",
      "3                         NaN            4/7/2020        C2F9151C0324   \n",
      "4                         NaN           4/14/2020        C2F9262C1610   \n",
      "\n",
      "  Watch training date  Exit Interview Date  \n",
      "0            3/28/2020           3/19/2021  \n",
      "1            3/28/2020                 NaN  \n",
      "2            4/10/2020                 NaN  \n",
      "3            4/13/2020                 NaN  \n",
      "4            4/20/2020                 NaN  \n",
      "Index(['Record ID', 'Visualizer ID', 'Participant Status ', 'Consent Date',\n",
      "       'Date participant completed', 'Date participant withdrew',\n",
      "       'Date participant unenrolled', 'Date Devices Mailed',\n",
      "       'ID of device loaned', 'Watch training date ', 'Exit Interview Date'],\n",
      "      dtype='object')\n"
     ]
    }
   ],
   "source": [
    "## Import the status file\n",
    "status_file = '/Users/adityaponnada/Downloads/time_study_data/participant_status_tracking_v2.csv'\n",
    "status_df = pd.read_csv(status_file)\n",
    "\n",
    "## Show the first few rows\n",
    "print(status_df.head())\n",
    "# Also print the columns names\n",
    "print(status_df.columns)"
   ]
  },
  {
   "cell_type": "markdown",
   "id": "aa02ca55",
   "metadata": {},
   "source": [
    "Now only keep the completed participants"
   ]
  },
  {
   "cell_type": "code",
   "execution_count": 7,
   "id": "a33ced38",
   "metadata": {},
   "outputs": [
    {
     "name": "stdout",
     "output_type": "stream",
     "text": [
      "                           participant_id     status\n",
      "0        sharpnessnextpouch@timestudy_com  Completed\n",
      "1     dimnesscranialunheard@timestudy_com  Completed\n",
      "2   coynessculminatebarista@timestudy_com  Completed\n",
      "3  spinstersubatomiccoyness@timestudy_com  Completed\n",
      "4     sadlyskilledlustfully@timestudy_com  Completed\n",
      "(136, 2)\n"
     ]
    }
   ],
   "source": [
    "## Filter completed participants. We will only keep the visualizerID and status columns\n",
    "status_df = status_df[status_df['Participant Status '] == 'Completed'][['Visualizer ID', 'Participant Status ']]\n",
    "# Rename the visualizerID column to participant_id.\n",
    "status_df.rename(columns={'Visualizer ID': 'participant_id'}, inplace=True)\n",
    "# Also rename participant status to status\n",
    "status_df.rename(columns={'Participant Status ': 'status'}, inplace=True)\n",
    "# Reset the index\n",
    "status_df.reset_index(drop=True, inplace=True)\n",
    "# Add @timestudy_com to the participant_id column\n",
    "status_df['participant_id'] = status_df['participant_id'] + '@timestudy_com'\n",
    "## Show the first few rows\n",
    "print(status_df.head())\n",
    "# Also print the shape of the dataframe\n",
    "print(status_df.shape)\n"
   ]
  },
  {
   "cell_type": "markdown",
   "id": "83c0f031",
   "metadata": {},
   "source": [
    "Save the completed participants IDs as a list"
   ]
  },
  {
   "cell_type": "code",
   "execution_count": 9,
   "id": "d3909442",
   "metadata": {},
   "outputs": [
    {
     "name": "stdout",
     "output_type": "stream",
     "text": [
      "['sharpnessnextpouch@timestudy_com', 'dimnesscranialunheard@timestudy_com', 'coynessculminatebarista@timestudy_com', 'spinstersubatomiccoyness@timestudy_com', 'sadlyskilledlustfully@timestudy_com', 'unfittedfactoiddivisive@timestudy_com', 'groinunratedbattery@timestudy_com', 'exploreparadoxmangle@timestudy_com', 'penpalsandbanklifting@timestudy_com', 'showplacefacingsanta@timestudy_com', 'lyricallymalformedrigor@timestudy_com', 'neutergoldfishsworn@timestudy_com', 'debatableuneasyeveryone@timestudy_com', 'peddlingventricleexert@timestudy_com', 'collisionmolarbreeze@timestudy_com', 'faucetsquealingcatapult@timestudy_com', 'bannisterhardwiredladle@timestudy_com', 'resupplyclappingyahoo@timestudy_com', 'punctuatelandingdeferred@timestudy_com', 'tattlingsupperlegroom@timestudy_com', 'vagabondnumerousflatterer@timestudy_com', 'anagramprobingscrooge@timestudy_com', 'equallustinessuntil@timestudy_com', 'crestedserpentspongy@timestudy_com', 'fracturerepurposealgebra@timestudy_com', 'cohesiveprotractfavored@timestudy_com', 'attirecrabbinghumbling@timestudy_com', 'lardcapablemud@timestudy_com', 'badlandwiltmuseum@timestudy_com', 'catsupexploitmocker@timestudy_com', 'reconfirmcremeplethora@timestudy_com', 'pretendedconstrainfraying@timestudy_com', 'feistydaycarelung@timestudy_com', 'gentlykittenthaw@timestudy_com', 'rebuttalskateroyster@timestudy_com', 'atlanticchefhatchet@timestudy_com', 'rangerchildlikequantum@timestudy_com', 'kinsmanlargewand@timestudy_com', 'chewingslouchingfailing@timestudy_com', 'hardyneatnessclobber@timestudy_com', 'doorpostthesisjubilance@timestudy_com', 'distresslitigatemassager@timestudy_com', 'ogleuncladthermos@timestudy_com', 'grudgehandballcampfire@timestudy_com', 'anthillfastinglucrative@timestudy_com', 'evasiongalorebath@timestudy_com', 'spookysubtotalunreached@timestudy_com', 'sculpturecrunchingerasure@timestudy_com', 'defilinganywayimmovable@timestudy_com', 'parakeettrappeddetector@timestudy_com', 'unmixableresultfidgety@timestudy_com', 'subtitlegrievousbazooka@timestudy_com', 'predatordebatingpredator@timestudy_com', 'massagerresidencyenlarging@timestudy_com', 'wrigglecatalyststerility@timestudy_com', 'dissuadecelestialrelic@timestudy_com', 'childhoodmovingmagnify@timestudy_com', 'congestedculpritsaved@timestudy_com', 'congestedtapssneer@timestudy_com', 'moodinessgrandmasynopsis@timestudy_com', 'starlesspayingoutlet@timestudy_com', 'grumblystiffnessuntainted@timestudy_com', 'arrivejanitoruniformly@timestudy_com', 'diagramuncoupleoutput@timestudy_com', 'residentselfgutter@timestudy_com', 'congresscyclistdefender@timestudy_com', 'animateshowerclothes@timestudy_com', 'retrialgraftedsturdy@timestudy_com', 'tipoffstarchpartly@timestudy_com', 'nicknameoverpaycolt@timestudy_com', 'headphoneoutsmartunfailing@timestudy_com', 'craftworkattendeeensnare@timestudy_com', 'tapestryrivetingverify@timestudy_com', 'unbundleoverbitesixtyfold@timestudy_com', 'routinesurenessglitzy@timestudy_com', 'grapethumpingtwenty@timestudy_com', 'superiorpassablecosmic@timestudy_com', 'wikipediaetchingcrystal@timestudy_com', 'rangerabrasivedislike@timestudy_com', 'idealistsustainerexpansive@timestudy_com', 'panoramahandcraftcomma@timestudy_com', 'urchinvariablytrend@timestudy_com', 'washboardceramicsenticing@timestudy_com', 'slapstickporcupineslacks@timestudy_com', 'pandemicerraticobscure@timestudy_com', 'gammahuffrigging@timestudy_com', 'trombonetroweldecree@timestudy_com', 'sublevelcurlyhanky@timestudy_com', 'endlessroamerreconfirm@timestudy_com', 'larkshiningaffected@timestudy_com', 'synapseevaluatechevron@timestudy_com', 'kangaroozodiaccrudeness@timestudy_com', 'unfreezefrayingknoll@timestudy_com', 'certifiedembargobartender@timestudy_com', 'spearmanshushfreebie@timestudy_com', 'unveileddismountearwig@timestudy_com', 'erasuresafeguardravishing@timestudy_com', 'mountainseclusionchaffing@timestudy_com', 'genderradiantlycharging@timestudy_com', 'earflapmaraudingappointee@timestudy_com', 'persevereriseswoop@timestudy_com', 'unelectedscrubbeddeflected@timestudy_com', 'bartenderradiatorapplied@timestudy_com', 'moisturedecodelyricist@timestudy_com', 'scarecrowstackcharred@timestudy_com', 'rippingpeprepose@timestudy_com', 'resalepartlyfrigidity@timestudy_com', 'backfirebankedprudishly@timestudy_com', 'afflictedrevenueepilepsy@timestudy_com', 'thusflattenengraver@timestudy_com', 'freightbrisklypopulace@timestudy_com', 'bondingcoasterdirtiness@timestudy_com', 'mumblingfoundersubsonic@timestudy_com', 'reliablydetaildebate@timestudy_com', 'yearlingfiberspotty@timestudy_com', 'nucleusbackwatercanning@timestudy_com', 'headwearskirmishantidote@timestudy_com', 'landlordastrologycopy@timestudy_com', 'brinkaminounframed@timestudy_com', 'enjoyergoofinessgrudge@timestudy_com', 'whoeverrelightspookily@timestudy_com', 'caucuscattlemockup@timestudy_com', 'moocherchemicalsbanker@timestudy_com', 'espionagechihuahuagraffiti@timestudy_com', 'remoldexcludingaffair@timestudy_com', 'retrievergeckoabroad@timestudy_com', 'quizzicalpremiumfrayed@timestudy_com', 'facelesschimpacclaim@timestudy_com', 'beavertomatoupscale@timestudy_com', 'housewagontrivial@timestudy_com', 'handcufffootloosecabful@timestudy_com', 'mysidvattedlexica@timestudy_com', 'unraveledlitterpowerably@timestudy_com', 'orbsquackysyllabuses@timestudy_com', 'pettytransfixedsolubly@timestudy_com', 'copybrickcreative@timestudy_com']\n"
     ]
    }
   ],
   "source": [
    "completed_participants = status_df['participant_id'].tolist()\n",
    "# Display the completed participants\n",
    "print(completed_participants)"
   ]
  },
  {
   "cell_type": "markdown",
   "id": "0acc79f3",
   "metadata": {},
   "source": [
    "## Import compliance matrix\n",
    "We will import hourly compliance matrix for all the completed participants"
   ]
  },
  {
   "cell_type": "code",
   "execution_count": 20,
   "id": "34420711",
   "metadata": {},
   "outputs": [
    {
     "name": "stdout",
     "output_type": "stream",
     "text": [
      "                     Participant_ID Initial_Prompt_Date Prompt_Type  \\\n",
      "0  sharpnessnextpouch@timestudy_com          2020-06-24   EMA_Micro   \n",
      "1  sharpnessnextpouch@timestudy_com          2020-06-24   EMA_Micro   \n",
      "2  sharpnessnextpouch@timestudy_com          2020-06-24   EMA_Micro   \n",
      "3  sharpnessnextpouch@timestudy_com          2020-06-24   EMA_Micro   \n",
      "4  sharpnessnextpouch@timestudy_com          2020-06-24   EMA_Micro   \n",
      "\n",
      "  Study_Mode     Initial_Prompt_Local_Time Answer_Status  \\\n",
      "0       TIME  Wed Jun 24 05:34:02 PDT 2020     Completed   \n",
      "1       TIME  Wed Jun 24 05:43:02 PDT 2020     Completed   \n",
      "2       TIME  Wed Jun 24 05:51:02 PDT 2020     Completed   \n",
      "3       TIME  Wed Jun 24 06:14:03 PDT 2020  NeverStarted   \n",
      "4       TIME  Wed Jun 24 06:33:05 PDT 2020     Completed   \n",
      "\n",
      "       Actual_Prompt_Local_Time  First_Question_Completion_Unixtime  \\\n",
      "0  Wed Jun 24 05:34:02 PDT 2020                       1593002047735   \n",
      "1  Wed Jun 24 05:43:02 PDT 2020                       1593002586653   \n",
      "2  Wed Jun 24 05:51:02 PDT 2020                       1593003068073   \n",
      "3  Wed Jun 24 06:14:03 PDT 2020                                  -1   \n",
      "4  Wed Jun 24 06:33:05 PDT 2020                       1593005596491   \n",
      "\n",
      "  UTC_Offset  Reprompt_Num  ...          start_time_7min   mims_summary_8min  \\\n",
      "0  GMT-07:00             0  ...  2020-06-24 05:27:02.007  25.762841645149287   \n",
      "1  GMT-07:00             0  ...  2020-06-24 05:36:02.007  0.7259144947332565   \n",
      "2  GMT-07:00             0  ...  2020-06-24 05:44:02.007  1.9533181687615095   \n",
      "3  GMT-07:00             0  ...  2020-06-24 06:07:03.003                 0.0   \n",
      "4  GMT-07:00             0  ...  2020-06-24 06:26:05.003                 0.0   \n",
      "\n",
      "   num_readings_8min          start_time_8min   mims_summary_9min  \\\n",
      "0              480.0  2020-06-24 05:26:02.007  25.762841645149287   \n",
      "1              480.0  2020-06-24 05:35:02.007  13.514256394102517   \n",
      "2              480.0  2020-06-24 05:43:02.007  1.9533181687615095   \n",
      "3              480.0  2020-06-24 06:06:03.003                 0.0   \n",
      "4              480.0  2020-06-24 06:25:05.003                 0.0   \n",
      "\n",
      "  num_readings_9min          start_time_9min  mims_summary_10min  \\\n",
      "0             540.0  2020-06-24 05:25:02.007  25.762841645149287   \n",
      "1             540.0  2020-06-24 05:34:02.007  15.953504409952053   \n",
      "2             540.0  2020-06-24 05:42:02.007  1.9533181687615095   \n",
      "3             540.0  2020-06-24 06:05:03.003                 0.0   \n",
      "4             540.0  2020-06-24 06:24:05.003                 0.0   \n",
      "\n",
      "  num_readings_10min         start_time_10min  \n",
      "0              600.0  2020-06-24 05:24:02.007  \n",
      "1              600.0  2020-06-24 05:33:02.007  \n",
      "2              600.0  2020-06-24 05:41:02.007  \n",
      "3              600.0  2020-06-24 06:04:03.003  \n",
      "4              600.0  2020-06-24 06:23:05.003  \n",
      "\n",
      "[5 rows x 62 columns]\n",
      "(1495495, 62)\n"
     ]
    }
   ],
   "source": [
    "folder_path = '/Users/adityaponnada/Downloads/time_study_data/compliance_matrix/'\n",
    "# Import all the csv files within this folder. But only for the completed participants. Then concatenate them into a single dataframe.\n",
    "# Note: The folder is structured as follows:\n",
    "# folder_path/participant_id/uema_feature_mx_*.csv. Here * is a wildcard that matches any characters.\n",
    "# The code should first use the completed participant list, then loop through the folder path and find p[articipant_id folder. \n",
    "# Then once the matching folder found, just concatinate all the csv files that match the pattern uema_feature_mx_*.csv\n",
    "all_files = []\n",
    "for participant in completed_participants:\n",
    "    participant_folder = f\"{folder_path}{participant}/\"\n",
    "    # Find all the csv files that match the pattern uema_feature_mx_*.csv\n",
    "    files = glob.glob(participant_folder + 'uema_feature_mx_*.csv')\n",
    "    for file in files:\n",
    "        all_files.append(pd.read_csv(file))\n",
    "# Concatenate all the dataframes in the list into a single dataframe\n",
    "compliance_matrix = pd.concat(all_files, ignore_index=True)\n",
    "# Show the first few rows of the compliance matrix\n",
    "print(compliance_matrix.head())\n",
    "# Also print the shape of the compliance matrix\n",
    "print(compliance_matrix.shape)"
   ]
  },
  {
   "cell_type": "code",
   "execution_count": 22,
   "id": "e3cab574",
   "metadata": {},
   "outputs": [
    {
     "name": "stdout",
     "output_type": "stream",
     "text": [
      "Number of rows in compliance_matrix: 1495495\n",
      "Number of columns in compliance_matrix: 62\n",
      "Number of unique participants in compliance_matrix: 137\n"
     ]
    }
   ],
   "source": [
    "## Get the number of rows in compliance_matrix\n",
    "num_rows = compliance_matrix.shape[0]\n",
    "print(f\"Number of rows in compliance_matrix: {num_rows}\")\n",
    "# Get the number of columns in compliance_matrix\n",
    "num_cols = compliance_matrix.shape[1]\n",
    "print(f\"Number of columns in compliance_matrix: {num_cols}\")\n",
    "# Get the number of unique participants in compliance_matrix\n",
    "num_participants = compliance_matrix['Participant_ID'].nunique()\n",
    "print(f\"Number of unique participants in compliance_matrix: {num_participants}\")"
   ]
  },
  {
   "cell_type": "markdown",
   "id": "e218f7f2",
   "metadata": {},
   "source": [
    "Save the file for later access"
   ]
  },
  {
   "cell_type": "code",
   "execution_count": 23,
   "id": "8eec35fc",
   "metadata": {},
   "outputs": [
    {
     "name": "stdout",
     "output_type": "stream",
     "text": [
      "Compliance matrix saved to /Users/adityaponnada/Downloads/time_study_data/compliance_matrix_20250701_115558.csv\n"
     ]
    }
   ],
   "source": [
    "## Save compliance_matrix to a csv file. The filename should have _date_time appended to it.\n",
    "current_time = datetime.datetime.now().strftime(\"%Y%m%d_%H%M%S\")\n",
    "compliance_matrix.to_csv(f'/Users/adityaponnada/Downloads/time_study_data/compliance_matrix_{current_time}.csv', index=False)\n",
    "print(f\"Compliance matrix saved to /Users/adityaponnada/Downloads/time_study_data/compliance_matrix_{current_time}.csv\")"
   ]
  },
  {
   "cell_type": "markdown",
   "id": "f9bac674",
   "metadata": {},
   "source": [
    "### Sample 10 participants\n",
    "We just sample ten participants for model testing for now"
   ]
  },
  {
   "cell_type": "code",
   "execution_count": 24,
   "id": "e2018962",
   "metadata": {},
   "outputs": [
    {
     "name": "stdout",
     "output_type": "stream",
     "text": [
      "Sampled Participants:\n",
      "enjoyergoofinessgrudge@timestudy_com\n",
      "erasuresafeguardravishing@timestudy_com\n",
      "persevereriseswoop@timestudy_com\n",
      "neutergoldfishsworn@timestudy_com\n",
      "remoldexcludingaffair@timestudy_com\n",
      "subtitlegrievousbazooka@timestudy_com\n",
      "slapstickporcupineslacks@timestudy_com\n",
      "pretendedconstrainfraying@timestudy_com\n",
      "certifiedembargobartender@timestudy_com\n",
      "chewingslouchingfailing@timestudy_com\n",
      "                           Participant_ID Initial_Prompt_Date  \\\n",
      "132810  neutergoldfishsworn@timestudy_com          2021-02-22   \n",
      "132811  neutergoldfishsworn@timestudy_com          2021-02-22   \n",
      "132812  neutergoldfishsworn@timestudy_com          2021-02-22   \n",
      "132813  neutergoldfishsworn@timestudy_com          2021-02-22   \n",
      "132814  neutergoldfishsworn@timestudy_com          2021-02-22   \n",
      "\n",
      "             Prompt_Type Study_Mode     Initial_Prompt_Local_Time  \\\n",
      "132810         EMA_Micro       TIME  Mon Feb 22 16:53:05 PST 2021   \n",
      "132811      CS_EMA_Micro       TIME  Mon Feb 22 17:30:04 PST 2021   \n",
      "132812         EMA_Micro       TIME  Mon Feb 22 17:38:04 PST 2021   \n",
      "132813         EMA_Micro       TIME  Mon Feb 22 17:46:14 PST 2021   \n",
      "132814  Trivia_EMA_Micro       TIME  Mon Feb 22 17:54:03 PST 2021   \n",
      "\n",
      "       Answer_Status      Actual_Prompt_Local_Time  \\\n",
      "132810     Completed  Mon Feb 22 16:53:05 PST 2021   \n",
      "132811     Completed  Mon Feb 22 17:30:04 PST 2021   \n",
      "132812     Completed  Mon Feb 22 17:38:04 PST 2021   \n",
      "132813  NeverStarted  Mon Feb 22 17:46:14 PST 2021   \n",
      "132814     Completed  Mon Feb 22 17:54:03 PST 2021   \n",
      "\n",
      "        First_Question_Completion_Unixtime UTC_Offset  Reprompt_Num  ...  \\\n",
      "132810                       1614041588429  GMT-08:00             0  ...   \n",
      "132811                       1614043807308  GMT-08:00             0  ...   \n",
      "132812                       1614044289506  GMT-08:00             0  ...   \n",
      "132813                                  -1  GMT-08:00             0  ...   \n",
      "132814                       1614045256587  GMT-08:00             0  ...   \n",
      "\n",
      "                start_time_7min mims_summary_8min  num_readings_8min  \\\n",
      "132810  2021-02-22 16:46:05.003         75.518832              480.0   \n",
      "132811  2021-02-22 17:23:04.003         77.299264              480.0   \n",
      "132812  2021-02-22 17:31:04.003         97.096832              480.0   \n",
      "132813  2021-02-22 17:39:14.003         79.955604              480.0   \n",
      "132814  2021-02-22 17:47:03.003         97.973885              480.0   \n",
      "\n",
      "                start_time_8min mims_summary_9min num_readings_9min  \\\n",
      "132810  2021-02-22 16:45:05.003         91.733076             540.0   \n",
      "132811  2021-02-22 17:22:04.003         83.611101             540.0   \n",
      "132812  2021-02-22 17:30:04.003        105.239383             540.0   \n",
      "132813  2021-02-22 17:38:14.003         89.084343             540.0   \n",
      "132814  2021-02-22 17:46:03.003         107.22721             540.0   \n",
      "\n",
      "                start_time_9min mims_summary_10min num_readings_10min  \\\n",
      "132810  2021-02-22 16:44:05.003          99.985419              600.0   \n",
      "132811  2021-02-22 17:21:04.003          91.608448              600.0   \n",
      "132812  2021-02-22 17:29:04.003         115.989498              600.0   \n",
      "132813  2021-02-22 17:37:14.003          98.396637              600.0   \n",
      "132814  2021-02-22 17:45:03.003         119.646606              600.0   \n",
      "\n",
      "               start_time_10min  \n",
      "132810  2021-02-22 16:43:05.003  \n",
      "132811  2021-02-22 17:20:04.003  \n",
      "132812  2021-02-22 17:28:04.003  \n",
      "132813  2021-02-22 17:36:14.003  \n",
      "132814  2021-02-22 17:44:03.003  \n",
      "\n",
      "[5 rows x 62 columns]\n",
      "(108075, 62)\n",
      "Sampled compliance matrix saved to /Users/adityaponnada/Downloads/time_study_data/sample_compliance_matrix_20250701_115558.csv\n"
     ]
    }
   ],
   "source": [
    "## Sample 10 participants from completed participants\n",
    "sampled_participants = np.random.choice(completed_participants, size=10, replace=False)\n",
    "print(\"Sampled Participants:\")\n",
    "for participant in sampled_participants:\n",
    "    print(participant)\n",
    "\n",
    "# Subset the compliance matrix to only include the sampled participants and save it in a new data frame\n",
    "sampled_compliance_matrix = compliance_matrix[compliance_matrix['Participant_ID'].isin(sampled_participants)]\n",
    "# Show the first few rows of the sampled compliance matrix\n",
    "print(sampled_compliance_matrix.head())\n",
    "# Also print the shape of the sampled compliance matrix\n",
    "print(sampled_compliance_matrix.shape)\n",
    "\n",
    "# Save the sampled compliance matrix to a csv file\n",
    "sampled_compliance_matrix.to_csv(f'/Users/adityaponnada/Downloads/time_study_data/sample_compliance_matrix_{current_time}.csv', index=False)\n",
    "print(f\"Sampled compliance matrix saved to /Users/adityaponnada/Downloads/time_study_data/sample_compliance_matrix_{current_time}.csv\")"
   ]
  },
  {
   "cell_type": "markdown",
   "id": "96405402",
   "metadata": {},
   "source": [
    "Inspect the sample data"
   ]
  },
  {
   "cell_type": "code",
   "execution_count": 25,
   "id": "53f6e946",
   "metadata": {},
   "outputs": [
    {
     "name": "stdout",
     "output_type": "stream",
     "text": [
      "Number of rows per participant in the sampled compliance matrix:\n",
      "Participant_ID\n",
      "pretendedconstrainfraying@timestudy_com    15440\n",
      "subtitlegrievousbazooka@timestudy_com      13303\n",
      "chewingslouchingfailing@timestudy_com      13283\n",
      "persevereriseswoop@timestudy_com           12993\n",
      "certifiedembargobartender@timestudy_com    11555\n",
      "slapstickporcupineslacks@timestudy_com     11437\n",
      "enjoyergoofinessgrudge@timestudy_com       10457\n",
      "neutergoldfishsworn@timestudy_com           8724\n",
      "remoldexcludingaffair@timestudy_com         6426\n",
      "erasuresafeguardravishing@timestudy_com     4457\n",
      "Name: count, dtype: int64\n"
     ]
    }
   ],
   "source": [
    "## Get the number of rows per participant in the sampled compliance matrix\n",
    "rows_per_participant = sampled_compliance_matrix['Participant_ID'].value_counts()\n",
    "print(\"Number of rows per participant in the sampled compliance matrix:\")\n",
    "print(rows_per_participant)"
   ]
  },
  {
   "cell_type": "code",
   "execution_count": 26,
   "id": "62320526",
   "metadata": {},
   "outputs": [
    {
     "name": "stdout",
     "output_type": "stream",
     "text": [
      "Columns in the sampled compliance matrix:\n",
      "Participant_ID\n",
      "Initial_Prompt_Date\n",
      "Prompt_Type\n",
      "Study_Mode\n",
      "Initial_Prompt_Local_Time\n",
      "Answer_Status\n",
      "Actual_Prompt_Local_Time\n",
      "First_Question_Completion_Unixtime\n",
      "UTC_Offset\n",
      "Reprompt_Num\n",
      "Line\n",
      "Actual_Prompt_Local_DateTime\n",
      "DAY_OF_THE_WEEK\n",
      "TIME_OF_THE_DAY\n",
      "DAYS_IN_THE_STUDY\n",
      "BATTERY_LEVEL\n",
      "CHARGING_STATUS\n",
      "match_time_battery\n",
      "LOCATION\n",
      "match_time_location\n",
      "DISTANCE_FROM_HOME\n",
      "LOCATION_LABEL\n",
      "SCREEN_STATUS\n",
      "match_time_screen\n",
      "WAKE_TIME\n",
      "SLEEP_TIME\n",
      "PHONE_LOCK\n",
      "LAST_USAGE_DURATION\n",
      "match_time_lock\n",
      "PARTS_OF_WAKING_HOUR\n",
      "PROXIMITY_TO_WAKE_TIME\n",
      "PROXIMITY_TO_SLEEP_TIME\n",
      "mims_summary_1min\n",
      "num_readings_1min\n",
      "start_time_1min\n",
      "mims_summary_2min\n",
      "num_readings_2min\n",
      "start_time_2min\n",
      "mims_summary_3min\n",
      "num_readings_3min\n",
      "start_time_3min\n",
      "mims_summary_4min\n",
      "num_readings_4min\n",
      "start_time_4min\n",
      "mims_summary_5min\n",
      "num_readings_5min\n",
      "start_time_5min\n",
      "mims_summary_6min\n",
      "num_readings_6min\n",
      "start_time_6min\n",
      "mims_summary_7min\n",
      "num_readings_7min\n",
      "start_time_7min\n",
      "mims_summary_8min\n",
      "num_readings_8min\n",
      "start_time_8min\n",
      "mims_summary_9min\n",
      "num_readings_9min\n",
      "start_time_9min\n",
      "mims_summary_10min\n",
      "num_readings_10min\n",
      "start_time_10min\n"
     ]
    }
   ],
   "source": [
    "## Print the names of the columns in the sampled compliance matrix\n",
    "print(\"Columns in the sampled compliance matrix:\")\n",
    "for col in sampled_compliance_matrix.columns:\n",
    "    print(col)"
   ]
  },
  {
   "cell_type": "markdown",
   "id": "319b11c7",
   "metadata": {},
   "source": [
    "## Feature processing\n",
    "We will compute features from each of the relevant columns one by one.\n",
    "First, we will write the function, then apply the function to the data frame."
   ]
  },
  {
   "cell_type": "code",
   "execution_count": 30,
   "id": "e61f584a",
   "metadata": {},
   "outputs": [
    {
     "name": "stdout",
     "output_type": "stream",
     "text": [
      "                           Participant_ID Initial_Prompt_Date  \\\n",
      "132810  neutergoldfishsworn@timestudy_com          2021-02-22   \n",
      "132811  neutergoldfishsworn@timestudy_com          2021-02-22   \n",
      "132812  neutergoldfishsworn@timestudy_com          2021-02-22   \n",
      "132813  neutergoldfishsworn@timestudy_com          2021-02-22   \n",
      "132814  neutergoldfishsworn@timestudy_com          2021-02-22   \n",
      "\n",
      "             Prompt_Type Study_Mode     Initial_Prompt_Local_Time  \\\n",
      "132810         EMA_Micro       TIME  Mon Feb 22 16:53:05 PST 2021   \n",
      "132811      CS_EMA_Micro       TIME  Mon Feb 22 17:30:04 PST 2021   \n",
      "132812         EMA_Micro       TIME  Mon Feb 22 17:38:04 PST 2021   \n",
      "132813         EMA_Micro       TIME  Mon Feb 22 17:46:14 PST 2021   \n",
      "132814  Trivia_EMA_Micro       TIME  Mon Feb 22 17:54:03 PST 2021   \n",
      "\n",
      "       Answer_Status      Actual_Prompt_Local_Time  \\\n",
      "132810     Completed  Mon Feb 22 16:53:05 PST 2021   \n",
      "132811     Completed  Mon Feb 22 17:30:04 PST 2021   \n",
      "132812     Completed  Mon Feb 22 17:38:04 PST 2021   \n",
      "132813  NeverStarted  Mon Feb 22 17:46:14 PST 2021   \n",
      "132814     Completed  Mon Feb 22 17:54:03 PST 2021   \n",
      "\n",
      "        First_Question_Completion_Unixtime UTC_Offset  Reprompt_Num  ...  \\\n",
      "132810                       1614041588429  GMT-08:00             0  ...   \n",
      "132811                       1614043807308  GMT-08:00             0  ...   \n",
      "132812                       1614044289506  GMT-08:00             0  ...   \n",
      "132813                                  -1  GMT-08:00             0  ...   \n",
      "132814                       1614045256587  GMT-08:00             0  ...   \n",
      "\n",
      "                start_time_7min mims_summary_8min  num_readings_8min  \\\n",
      "132810  2021-02-22 16:46:05.003         75.518832              480.0   \n",
      "132811  2021-02-22 17:23:04.003         77.299264              480.0   \n",
      "132812  2021-02-22 17:31:04.003         97.096832              480.0   \n",
      "132813  2021-02-22 17:39:14.003         79.955604              480.0   \n",
      "132814  2021-02-22 17:47:03.003         97.973885              480.0   \n",
      "\n",
      "                start_time_8min mims_summary_9min num_readings_9min  \\\n",
      "132810  2021-02-22 16:45:05.003         91.733076             540.0   \n",
      "132811  2021-02-22 17:22:04.003         83.611101             540.0   \n",
      "132812  2021-02-22 17:30:04.003        105.239383             540.0   \n",
      "132813  2021-02-22 17:38:14.003         89.084343             540.0   \n",
      "132814  2021-02-22 17:46:03.003         107.22721             540.0   \n",
      "\n",
      "                start_time_9min mims_summary_10min num_readings_10min  \\\n",
      "132810  2021-02-22 16:44:05.003          99.985419              600.0   \n",
      "132811  2021-02-22 17:21:04.003          91.608448              600.0   \n",
      "132812  2021-02-22 17:29:04.003         115.989498              600.0   \n",
      "132813  2021-02-22 17:37:14.003          98.396637              600.0   \n",
      "132814  2021-02-22 17:45:03.003         119.646606              600.0   \n",
      "\n",
      "               start_time_10min  \n",
      "132810  2021-02-22 16:43:05.003  \n",
      "132811  2021-02-22 17:20:04.003  \n",
      "132812  2021-02-22 17:28:04.003  \n",
      "132813  2021-02-22 17:36:14.003  \n",
      "132814  2021-02-22 17:44:03.003  \n",
      "\n",
      "[5 rows x 62 columns]\n"
     ]
    }
   ],
   "source": [
    "## First create a copy of the sampled compliance matrix\n",
    "processed_compliance_matrix = sampled_compliance_matrix.copy()\n",
    "# Show the first few rows of the processed compliance matrix\n",
    "print(processed_compliance_matrix.head())"
   ]
  },
  {
   "cell_type": "markdown",
   "id": "57d854e1",
   "metadata": {},
   "source": [
    "## The outcome variable\n",
    "We will convert answer status into 0 or 1 based on whether it was answered or not,"
   ]
  },
  {
   "cell_type": "code",
   "execution_count": 31,
   "id": "8ce54aff",
   "metadata": {},
   "outputs": [
    {
     "name": "stdout",
     "output_type": "stream",
     "text": [
      "Unique values in the Answer_Status column:\n",
      "['Completed' 'NeverStarted' 'Started' 'PartiallyCompleted'\n",
      " 'CompletedThenDismissed']\n"
     ]
    }
   ],
   "source": [
    "## Inspect the answer status column\n",
    "print(\"Unique values in the Answer_Status column:\")\n",
    "print(processed_compliance_matrix['Answer_Status'].unique())"
   ]
  },
  {
   "cell_type": "code",
   "execution_count": 33,
   "id": "058d3dda",
   "metadata": {},
   "outputs": [
    {
     "name": "stdout",
     "output_type": "stream",
     "text": [
      "Sample rows for Answer_Status = Completed:\n",
      "                                 Participant_ID Initial_Prompt_Date  \\\n",
      "369579  pretendedconstrainfraying@timestudy_com          2021-06-24   \n",
      "\n",
      "         Prompt_Type Study_Mode     Initial_Prompt_Local_Time Answer_Status  \\\n",
      "369579  CS_EMA_Micro       TIME  Thu Jun 24 07:59:46 PDT 2021     Completed   \n",
      "\n",
      "            Actual_Prompt_Local_Time  First_Question_Completion_Unixtime  \\\n",
      "369579  Thu Jun 24 07:59:46 PDT 2021                       1624546805043   \n",
      "\n",
      "       UTC_Offset  Reprompt_Num  ...          start_time_7min  \\\n",
      "369579  GMT-07:00             0  ...  2021-06-24 07:52:46.000   \n",
      "\n",
      "       mims_summary_8min  num_readings_8min          start_time_8min  \\\n",
      "369579               0.0              480.0  2021-06-24 07:51:46.000   \n",
      "\n",
      "       mims_summary_9min num_readings_9min          start_time_9min  \\\n",
      "369579               0.0             540.0  2021-06-24 07:50:46.000   \n",
      "\n",
      "       mims_summary_10min num_readings_10min         start_time_10min  \n",
      "369579                0.0              600.0  2021-06-24 07:49:46.000  \n",
      "\n",
      "[1 rows x 62 columns]\n",
      "\n",
      "\n",
      "Sample rows for Answer_Status = NeverStarted:\n",
      "                                  Participant_ID Initial_Prompt_Date  \\\n",
      "1095015  certifiedembargobartender@timestudy_com          2021-08-01   \n",
      "\n",
      "        Prompt_Type Study_Mode     Initial_Prompt_Local_Time Answer_Status  \\\n",
      "1095015   EMA_Micro       TIME  Sun Aug 01 09:13:01 CDT 2021  NeverStarted   \n",
      "\n",
      "             Actual_Prompt_Local_Time  First_Question_Completion_Unixtime  \\\n",
      "1095015  Sun Aug 01 09:13:01 CDT 2021                                  -1   \n",
      "\n",
      "        UTC_Offset  Reprompt_Num  ...          start_time_7min  \\\n",
      "1095015  GMT-05:00             0  ...  2021-08-01 09:06:01.002   \n",
      "\n",
      "         mims_summary_8min  num_readings_8min          start_time_8min  \\\n",
      "1095015  0.493315740833362              480.0  2021-08-01 09:05:01.002   \n",
      "\n",
      "          mims_summary_9min num_readings_9min          start_time_9min  \\\n",
      "1095015  0.5041748149066158             540.0  2021-08-01 09:04:01.002   \n",
      "\n",
      "         mims_summary_10min num_readings_10min         start_time_10min  \n",
      "1095015  0.5041748149066158              600.0  2021-08-01 09:03:01.002  \n",
      "\n",
      "[1 rows x 62 columns]\n",
      "\n",
      "\n",
      "Sample rows for Answer_Status = Started:\n",
      "                                  Participant_ID Initial_Prompt_Date  \\\n",
      "1089392  certifiedembargobartender@timestudy_com          2021-10-20   \n",
      "\n",
      "        Prompt_Type Study_Mode     Initial_Prompt_Local_Time Answer_Status  \\\n",
      "1089392   EMA_Micro       TIME  Wed Oct 20 17:08:02 CDT 2021       Started   \n",
      "\n",
      "             Actual_Prompt_Local_Time  First_Question_Completion_Unixtime  \\\n",
      "1089392  Wed Oct 20 17:08:02 CDT 2021                                  -1   \n",
      "\n",
      "        UTC_Offset  Reprompt_Num  ...          start_time_7min  \\\n",
      "1089392  GMT-05:00             0  ...  2021-10-20 17:01:02.005   \n",
      "\n",
      "          mims_summary_8min  num_readings_8min          start_time_8min  \\\n",
      "1089392  195.49098688996892              480.0  2021-10-20 17:00:02.005   \n",
      "\n",
      "          mims_summary_9min num_readings_9min          start_time_9min  \\\n",
      "1089392  203.97951376943038             540.0  2021-10-20 16:59:01.000   \n",
      "\n",
      "         mims_summary_10min num_readings_10min         start_time_10min  \n",
      "1089392  213.68014999342643              600.0  2021-10-20 16:58:01.000  \n",
      "\n",
      "[1 rows x 62 columns]\n",
      "\n",
      "\n",
      "Sample rows for Answer_Status = PartiallyCompleted:\n",
      "                               Participant_ID Initial_Prompt_Date Prompt_Type  \\\n",
      "1360921  enjoyergoofinessgrudge@timestudy_com          2022-03-18   EMA_Micro   \n",
      "\n",
      "        Study_Mode     Initial_Prompt_Local_Time       Answer_Status  \\\n",
      "1360921       TIME  Fri Mar 18 23:53:01 PDT 2022  PartiallyCompleted   \n",
      "\n",
      "             Actual_Prompt_Local_Time  First_Question_Completion_Unixtime  \\\n",
      "1360921  Fri Mar 18 23:53:01 PDT 2022                       1647672786324   \n",
      "\n",
      "        UTC_Offset  Reprompt_Num  ...          start_time_7min  \\\n",
      "1360921  GMT-07:00             0  ...  2022-03-18 23:46:01.006   \n",
      "\n",
      "        mims_summary_8min  num_readings_8min          start_time_8min  \\\n",
      "1360921         54.670108              480.0  2022-03-18 23:45:01.006   \n",
      "\n",
      "        mims_summary_9min num_readings_9min          start_time_9min  \\\n",
      "1360921         64.500629             540.0  2022-03-18 23:44:01.006   \n",
      "\n",
      "        mims_summary_10min num_readings_10min         start_time_10min  \n",
      "1360921          73.211019              600.0  2022-03-18 23:43:01.006  \n",
      "\n",
      "[1 rows x 62 columns]\n",
      "\n",
      "\n",
      "Sample rows for Answer_Status = CompletedThenDismissed:\n",
      "                               Participant_ID Initial_Prompt_Date Prompt_Type  \\\n",
      "619595  subtitlegrievousbazooka@timestudy_com          2021-09-09   EMA_Micro   \n",
      "\n",
      "       Study_Mode     Initial_Prompt_Local_Time           Answer_Status  \\\n",
      "619595       TIME  Thu Sep 09 10:44:01 PDT 2021  CompletedThenDismissed   \n",
      "\n",
      "            Actual_Prompt_Local_Time  First_Question_Completion_Unixtime  \\\n",
      "619595  Thu Sep 09 10:44:01 PDT 2021                                  -1   \n",
      "\n",
      "       UTC_Offset  Reprompt_Num  ...  start_time_7min mims_summary_8min  \\\n",
      "619595  GMT-07:00             0  ...              NaN                OB   \n",
      "\n",
      "        num_readings_8min  start_time_8min mims_summary_9min  \\\n",
      "619595                0.0              NaN                OB   \n",
      "\n",
      "       num_readings_9min start_time_9min mims_summary_10min  \\\n",
      "619595               0.0             NaN                 OB   \n",
      "\n",
      "       num_readings_10min start_time_10min  \n",
      "619595                0.0              NaN  \n",
      "\n",
      "[1 rows x 62 columns]\n",
      "\n",
      "\n"
     ]
    }
   ],
   "source": [
    "## Show sample rows from each category of the Answer_Status column\n",
    "for status in processed_compliance_matrix['Answer_Status'].unique():\n",
    "    print(f\"Sample rows for Answer_Status = {status}:\")\n",
    "    sample_rows = processed_compliance_matrix[processed_compliance_matrix['Answer_Status'] == status].sample(n=1, random_state=42)\n",
    "    print(sample_rows)\n",
    "    print(\"\\n\")"
   ]
  },
  {
   "cell_type": "code",
   "execution_count": 34,
   "id": "c9c96238",
   "metadata": {},
   "outputs": [
    {
     "name": "stdout",
     "output_type": "stream",
     "text": [
      "Distribution of Answer_Status:\n",
      "Answer_Status\n",
      "Completed                 93246\n",
      "NeverStarted              13691\n",
      "Started                     550\n",
      "CompletedThenDismissed      487\n",
      "PartiallyCompleted          101\n",
      "Name: count, dtype: int64\n"
     ]
    }
   ],
   "source": [
    "## Check the distribution of answer status\n",
    "answer_status_counts = processed_compliance_matrix['Answer_Status'].value_counts()\n",
    "print(\"Distribution of Answer_Status:\")\n",
    "print(answer_status_counts)"
   ]
  },
  {
   "cell_type": "code",
   "execution_count": 35,
   "id": "c845cebd",
   "metadata": {},
   "outputs": [],
   "source": [
    "## Create a new column 'Outcome' based on the 'Answer_Status' column. \n",
    "## The value is 1 if the answer status is either Completed, CompletedThenDismissed, and Partially completed. Else it is 0 for other cases.\n",
    "processed_compliance_matrix['Outcome'] = processed_compliance_matrix['Answer_Status'].apply(\n",
    "    lambda x: 1 if x in ['Completed', 'CompletedThenDismissed', 'PartiallyCompleted'] else 0\n",
    ")"
   ]
  },
  {
   "cell_type": "code",
   "execution_count": 36,
   "id": "0287a34f",
   "metadata": {},
   "outputs": [
    {
     "name": "stdout",
     "output_type": "stream",
     "text": [
      "Distribution of Outcome:\n",
      "Outcome\n",
      "1    93834\n",
      "0    14241\n",
      "Name: count, dtype: int64\n"
     ]
    }
   ],
   "source": [
    "## Check the distribution of the Outcome column\n",
    "outcome_counts = processed_compliance_matrix['Outcome'].value_counts()\n",
    "print(\"Distribution of Outcome:\")\n",
    "print(outcome_counts)"
   ]
  },
  {
   "cell_type": "code",
   "execution_count": 37,
   "id": "fd6b98b4",
   "metadata": {},
   "outputs": [
    {
     "name": "stdout",
     "output_type": "stream",
     "text": [
      "Distribution of Outcome in percentage:\n",
      "Outcome\n",
      "1    86.82304\n",
      "0    13.17696\n",
      "Name: proportion, dtype: float64\n"
     ]
    }
   ],
   "source": [
    "## Check the distribtion of the Outcome column in perceontage\n",
    "outcome_percentage = processed_compliance_matrix['Outcome'].value_counts(normalize=True) * 100\n",
    "print(\"Distribution of Outcome in percentage:\")\n",
    "print(outcome_percentage)"
   ]
  },
  {
   "cell_type": "markdown",
   "id": "8d70cbb0",
   "metadata": {},
   "source": [
    "## Predicting features (At the prompt moment)\n",
    "Now we will compute and prep predictor features one by one."
   ]
  },
  {
   "cell_type": "markdown",
   "id": "546f6fcc",
   "metadata": {},
   "source": [
    "### Day of the week\n",
    "We will convert day of the week into weekday (1) and weekend (0)"
   ]
  },
  {
   "cell_type": "code",
   "execution_count": 39,
   "id": "f4a01699",
   "metadata": {},
   "outputs": [
    {
     "name": "stdout",
     "output_type": "stream",
     "text": [
      "Distribution of Day_of_Week:\n",
      "DAY_OF_THE_WEEK\n",
      "2    20205\n",
      "3    17919\n",
      "1    17075\n",
      "4    15791\n",
      "0    13626\n",
      "5    12348\n",
      "6    11111\n",
      "Name: count, dtype: int64\n"
     ]
    }
   ],
   "source": [
    "## Show distribution of the day of the week variable\n",
    "day_of_week_counts = processed_compliance_matrix['DAY_OF_THE_WEEK'].value_counts()\n",
    "print(\"Distribution of Day_of_Week:\")\n",
    "print(day_of_week_counts)"
   ]
  },
  {
   "cell_type": "code",
   "execution_count": 45,
   "id": "cf9f3757",
   "metadata": {},
   "outputs": [
    {
     "name": "stdout",
     "output_type": "stream",
     "text": [
      "Sampled Day of Week DataFrame:\n",
      "  Initial_Prompt_Date  DAY_OF_THE_WEEK\n",
      "0          2021-01-11                0\n",
      "1          2021-06-22                1\n",
      "2          2021-08-11                2\n",
      "3          2021-02-18                3\n",
      "4          2022-04-22                4\n",
      "5          2022-02-26                5\n",
      "6          2021-07-18                6\n"
     ]
    },
    {
     "name": "stderr",
     "output_type": "stream",
     "text": [
      "/var/folders/h6/3rl340nn7cg92xvwk801_3b80000gn/T/ipykernel_45934/1516588673.py:3: FutureWarning: DataFrameGroupBy.apply operated on the grouping columns. This behavior is deprecated, and in a future version of pandas the grouping columns will be excluded from the operation. Either pass `include_groups=False` to exclude the groupings or explicitly select the grouping columns after groupby to silence this warning.\n",
      "  sampled_day_of_week = processed_compliance_matrix.groupby('DAY_OF_THE_WEEK').apply(lambda x: x.sample(1)).reset_index(drop=True)\n"
     ]
    }
   ],
   "source": [
    "## As a test, sample one random row from the processed compliance matrix for each of the DAY_OF_THE_WEEK. \n",
    "## Save it in dataframe. We only want two columns - Prompt_Date and DAY_OF_THE_WEEK\n",
    "sampled_day_of_week = processed_compliance_matrix.groupby('DAY_OF_THE_WEEK').apply(lambda x: x.sample(1)).reset_index(drop=True)\n",
    "# Show the sampled day of week dataframe, but only two columns - Prompt_Date and DAY_OF_THE_WEEK\n",
    "sampled_day_of_week = sampled_day_of_week[['Initial_Prompt_Date', 'DAY_OF_THE_WEEK']]\n",
    "print(\"Sampled Day of Week DataFrame:\")\n",
    "print(sampled_day_of_week)"
   ]
  },
  {
   "cell_type": "code",
   "execution_count": 52,
   "id": "fcd12e49",
   "metadata": {},
   "outputs": [
    {
     "name": "stdout",
     "output_type": "stream",
     "text": [
      "132810    0\n",
      "132811    0\n",
      "132812    0\n",
      "132813    0\n",
      "132814    0\n",
      "Name: is_weekend, dtype: int64\n"
     ]
    }
   ],
   "source": [
    "## Create a new column is_weekend that is 1 if the DAY_OF_THE_WEEK is Saturday or Sunday, else 0.\n",
    "## For this, values for DAY_OF_THE_WEEK are 0 for Monday, 1 for Tuesday, ..., 5 for Saturday, and 6 for Sunday.\n",
    "processed_compliance_matrix['is_weekend'] = processed_compliance_matrix['DAY_OF_THE_WEEK'].apply(\n",
    "    lambda x: 1 if x in [5, 6] else 0\n",
    ")\n",
    "\n",
    "# Show the first few rows of the processed compliance matrix with the new is_weekend column\n",
    "print(processed_compliance_matrix['is_weekend'].head())"
   ]
  },
  {
   "cell_type": "code",
   "execution_count": 53,
   "id": "7ac3764f",
   "metadata": {},
   "outputs": [
    {
     "name": "stdout",
     "output_type": "stream",
     "text": [
      "Distribution of is_weekend:\n",
      "is_weekend\n",
      "0    84616\n",
      "1    23459\n",
      "Name: count, dtype: int64\n"
     ]
    }
   ],
   "source": [
    "## Show the distribution of weekend and weekday\n",
    "weekend_counts = processed_compliance_matrix['is_weekend'].value_counts()\n",
    "print(\"Distribution of is_weekend:\")\n",
    "print(weekend_counts)"
   ]
  },
  {
   "cell_type": "markdown",
   "id": "30834607",
   "metadata": {},
   "source": [
    "### Time of the day\n",
    "We will convert the prompt time in six parts - Early morning, morning, afternoon, evening, night, late night"
   ]
  },
  {
   "cell_type": "code",
   "execution_count": 64,
   "id": "32a4b2d3",
   "metadata": {},
   "outputs": [
    {
     "name": "stdout",
     "output_type": "stream",
     "text": [
      "Data type of Initial_Prompt_Time column:\n",
      "object\n",
      "First three rows of Actual_Prompt_Local_Time column:\n",
      "132810    Mon Feb 22 16:53:05 PST 2021\n",
      "132811    Mon Feb 22 17:30:04 PST 2021\n",
      "132812    Mon Feb 22 17:38:04 PST 2021\n",
      "Name: Actual_Prompt_Local_Time, dtype: object\n"
     ]
    }
   ],
   "source": [
    "## First check the data typoe of intial prompt time column\n",
    "print(\"Data type of Initial_Prompt_Time column:\")\n",
    "print(processed_compliance_matrix['Actual_Prompt_Local_Time'].dtype)\n",
    "## Show the first three rows of the Actual_Prompt_Local_Time column\n",
    "print(\"First three rows of Actual_Prompt_Local_Time column:\")\n",
    "print(processed_compliance_matrix['Actual_Prompt_Local_Time'].head(3))"
   ]
  },
  {
   "cell_type": "code",
   "execution_count": 68,
   "id": "bca6be1d",
   "metadata": {},
   "outputs": [],
   "source": [
    "## Convert the prompt time in six parts - Early morning, morning, afternoon, evening, night, late night.\n",
    "## We will create a new column 'Time_of_Day' based on the 'Prompt_Time' column. \n",
    "## Early morning  - 4 AM to 8 AM, morning 8 AM - 12 noon, afternoon 12 noon to 4 PM, \n",
    "## evening 4 PM to 8 PM, night 8 PM to 12 midnight, late night 12 midnight to 4 AM.\n",
    "## Note that Actual_Prompt_Local_Time is of type 'object'. \n",
    "## We should convert it to strng first. Then remove the time zone from the string\n",
    "## Then we convert it to date time object.\n",
    "## Once done, we will create a new column 'Time_of_Day' based on the hour of the day.\n",
    "## All this will be done in a single function.\n",
    "def convert_prompt_time_to_time_of_day(prompt_time):\n",
    "    # Convert to string and remove the timezone information. Time zone is any three letter word.\n",
    "    # For example Mon Feb 22 16:53:05 PST 2021 should become 'Mon Feb 22 16:53:05 2021'.\n",
    "    # But timezone could be anything like PST, EST, GMT, etc. These three letters are placed in position 20 to 22 in the string.\n",
    "    # So we will slice the string to remove the timezone.\n",
    "    prompt_time_str = str(prompt_time)[:19] + str(prompt_time)[23:]\n",
    "    ## Print the prompt_time_str to check if it is correct\n",
    "    # print(f\"Processed Prompt Time String: {prompt_time_str}\")\n",
    "\n",
    "\n",
    "    # Convert to datetime object, in the format similar to \"\"\n",
    "    prompt_time_dt = pd.to_datetime(prompt_time_str, format='%a %b %d %H:%M:%S %Y')\n",
    "    # Get the hour of the day\n",
    "    hour = prompt_time_dt.hour\n",
    "    \n",
    "    # Determine the time of day based on the hour\n",
    "    if 4 <= hour < 8:\n",
    "        return 'Early Morning'\n",
    "    elif 8 <= hour < 12:\n",
    "        return 'Morning'\n",
    "    elif 12 <= hour < 16:\n",
    "        return 'Afternoon'\n",
    "    elif 16 <= hour < 20:\n",
    "        return 'Evening'\n",
    "    elif 20 <= hour < 24:\n",
    "        return 'Night'\n",
    "    else:  # This covers the case for hours between 0 and 4\n",
    "        return 'Late Night'\n",
    "    \n",
    "# Apply the function to the 'Actual_Prompt_Local_Time' column\n",
    "processed_compliance_matrix['Time_of_Day'] = processed_compliance_matrix['Actual_Prompt_Local_Time'].apply(convert_prompt_time_to_time_of_day)"
   ]
  },
  {
   "cell_type": "code",
   "execution_count": 71,
   "id": "69d6bb95",
   "metadata": {},
   "outputs": [
    {
     "name": "stdout",
     "output_type": "stream",
     "text": [
      "Time_of_Day and Actual_Prompt_Local_Time columns:\n",
      "       Time_of_Day      Actual_Prompt_Local_Time\n",
      "132810     Evening  Mon Feb 22 16:53:05 PST 2021\n",
      "132811     Evening  Mon Feb 22 17:30:04 PST 2021\n",
      "132812     Evening  Mon Feb 22 17:38:04 PST 2021\n",
      "132813     Evening  Mon Feb 22 17:46:14 PST 2021\n",
      "132814     Evening  Mon Feb 22 17:54:03 PST 2021\n",
      "132815     Evening  Mon Feb 22 18:26:04 PST 2021\n",
      "132816     Evening  Mon Feb 22 18:35:11 PST 2021\n",
      "132817     Evening  Mon Feb 22 18:44:35 PST 2021\n",
      "132818     Evening  Mon Feb 22 18:53:05 PST 2021\n",
      "132819     Evening  Mon Feb 22 19:29:05 PST 2021\n",
      "Sampled rows of Actual_Prompt_Local_Time and Time_of_Day:\n",
      "             Actual_Prompt_Local_Time Time_of_Day\n",
      "612985   Tue Nov 16 10:31:00 PST 2021     Morning\n",
      "1169198  Thu Aug 26 16:14:04 MDT 2021     Evening\n",
      "1094242  Thu Nov 04 15:26:03 CDT 2021   Afternoon\n",
      "378860   Fri Nov 27 21:08:04 PST 2020       Night\n",
      "456906   Wed May 12 18:13:04 PDT 2021     Evening\n",
      "1412867  Fri Nov 12 17:36:03 EST 2021     Evening\n",
      "1127886  Sun Aug 08 20:21:03 EDT 2021       Night\n",
      "1089062  Wed Feb 02 12:12:02 CST 2022   Afternoon\n",
      "980351   Wed Jul 07 19:53:01 EDT 2021     Evening\n",
      "1167066  Mon Sep 13 12:32:03 MDT 2021   Afternoon\n"
     ]
    }
   ],
   "source": [
    "## Check the time_of_day column and actual prompt time column together\n",
    "print(\"Time_of_Day and Actual_Prompt_Local_Time columns:\")\n",
    "print(processed_compliance_matrix[['Time_of_Day', 'Actual_Prompt_Local_Time']].head(10))\n",
    "\n",
    "# Sample randomrows to print. But display only actual prompt time and time of day columns\n",
    "sampled_rows = processed_compliance_matrix[['Actual_Prompt_Local_Time', 'Time_of_Day']].sample(n=10, random_state=42)\n",
    "print(\"Sampled rows of Actual_Prompt_Local_Time and Time_of_Day:\")\n",
    "print(sampled_rows) "
   ]
  },
  {
   "cell_type": "code",
   "execution_count": 72,
   "id": "ff9b6b52",
   "metadata": {},
   "outputs": [
    {
     "name": "stdout",
     "output_type": "stream",
     "text": [
      "Distribution of Time_of_Day:\n",
      "Time_of_Day\n",
      "Evening          29375\n",
      "Afternoon        29105\n",
      "Morning          21805\n",
      "Night            21648\n",
      "Late Night        3272\n",
      "Early Morning     2870\n",
      "Name: count, dtype: int64\n"
     ]
    }
   ],
   "source": [
    "## Get the distribution of the Time_of_Day column\n",
    "time_of_day_counts = processed_compliance_matrix['Time_of_Day'].value_counts()\n",
    "print(\"Distribution of Time_of_Day:\")\n",
    "print(time_of_day_counts)"
   ]
  },
  {
   "cell_type": "markdown",
   "id": "6741f11f",
   "metadata": {},
   "source": [
    "### Battery levels\n",
    "We will compute battery level as being in battery saver mode or not\n"
   ]
  },
  {
   "cell_type": "code",
   "execution_count": 75,
   "id": "9eeaf1af",
   "metadata": {},
   "outputs": [
    {
     "name": "stdout",
     "output_type": "stream",
     "text": [
      "Battery Level column data:\n",
      "132810                 66.0\n",
      "132811                 64.0\n",
      "132812                   NF\n",
      "132813                 63.0\n",
      "132814                   NF\n",
      "132815                   NF\n",
      "132816                   NF\n",
      "132817    60.00000381469727\n",
      "132818                   NF\n",
      "132819                   NF\n",
      "Name: BATTERY_LEVEL, dtype: object\n",
      "Data type of BATTERY_LEVEL column:\n",
      "object\n"
     ]
    }
   ],
   "source": [
    "## Preview battery level data\n",
    "print(\"Battery Level column data:\")\n",
    "print(processed_compliance_matrix['BATTERY_LEVEL'].head(10))\n",
    "## Get the data type of the BATTERY_LEVEL column\n",
    "print(\"Data type of BATTERY_LEVEL column:\")\n",
    "print(processed_compliance_matrix['BATTERY_LEVEL'].dtype)"
   ]
  },
  {
   "cell_type": "code",
   "execution_count": 80,
   "id": "0995b093",
   "metadata": {},
   "outputs": [
    {
     "name": "stdout",
     "output_type": "stream",
     "text": [
      "132810    66.000000\n",
      "132811    64.000000\n",
      "132812          NaN\n",
      "132813    63.000000\n",
      "132814          NaN\n",
      "132815          NaN\n",
      "132816          NaN\n",
      "132817    60.000004\n",
      "132818          NaN\n",
      "132819          NaN\n",
      "Name: BATTERY_LEVEL, dtype: float64\n"
     ]
    }
   ],
   "source": [
    "## Convert Batterry_level to float. Coerce into numeric values, replacing errors with NaN\n",
    "processed_compliance_matrix['BATTERY_LEVEL'] = pd.to_numeric(processed_compliance_matrix['BATTERY_LEVEL'], errors='coerce')\n",
    "# Show the first few rows of the processed compliance matrix with the new BATTERY_LEVEL column\n",
    "print(processed_compliance_matrix['BATTERY_LEVEL'].head(10))"
   ]
  },
  {
   "cell_type": "code",
   "execution_count": 81,
   "id": "eb245a77",
   "metadata": {},
   "outputs": [
    {
     "name": "stdout",
     "output_type": "stream",
     "text": [
      "Distribution of NaN and non-NaN values in BATTERY_LEVEL:\n",
      "BATTERY_LEVEL\n",
      "True     56409\n",
      "False    51666\n",
      "Name: count, dtype: int64\n"
     ]
    }
   ],
   "source": [
    "## Get the distribution of NaN values in the BATTERY_LEVEL column vs the non-NaN values\n",
    "nan_battery_level_counts = processed_compliance_matrix['BATTERY_LEVEL'].isna().value_counts()\n",
    "print(\"Distribution of NaN and non-NaN values in BATTERY_LEVEL:\")\n",
    "print(nan_battery_level_counts)\n"
   ]
  },
  {
   "cell_type": "code",
   "execution_count": 82,
   "id": "936a16e0",
   "metadata": {},
   "outputs": [
    {
     "name": "stdout",
     "output_type": "stream",
     "text": [
      "132810    0.0\n",
      "132811    0.0\n",
      "132812    NaN\n",
      "132813    0.0\n",
      "132814    NaN\n",
      "132815    NaN\n",
      "132816    NaN\n",
      "132817    0.0\n",
      "132818    NaN\n",
      "132819    NaN\n",
      "Name: in_battery_saver_mode, dtype: float64\n"
     ]
    }
   ],
   "source": [
    "## Code BATTERY LEVEL as in_battery_saver_mode column if the battery level is less than 15, else 0. If NaN, then keep it as Nan.\n",
    "processed_compliance_matrix['in_battery_saver_mode'] = processed_compliance_matrix['BATTERY_LEVEL'].apply(\n",
    "    lambda x: 1 if x < 15 else (0 if pd.notna(x) else np.nan)\n",
    ")\n",
    "# Show the first few rows of the processed compliance matrix with the new in_battery_saver_mode column\n",
    "print(processed_compliance_matrix['in_battery_saver_mode'].head(10))"
   ]
  },
  {
   "cell_type": "markdown",
   "id": "85091c62",
   "metadata": {},
   "source": [
    "### Charging status\n",
    "Convert the charging status into binary for charging 0 or 1"
   ]
  },
  {
   "cell_type": "code",
   "execution_count": 83,
   "id": "6274f5a4",
   "metadata": {},
   "outputs": [
    {
     "name": "stdout",
     "output_type": "stream",
     "text": [
      "Distribution of CHARGING_STATUS:\n",
      "CHARGING_STATUS\n",
      "NF     56409\n",
      "NO     44975\n",
      "YES     6691\n",
      "Name: count, dtype: int64\n"
     ]
    }
   ],
   "source": [
    "## Get the distribution of CHARGING_STATUS column\n",
    "charging_status_counts = processed_compliance_matrix['CHARGING_STATUS'].value_counts()\n",
    "print(\"Distribution of CHARGING_STATUS:\")\n",
    "print(charging_status_counts)"
   ]
  },
  {
   "cell_type": "code",
   "execution_count": 84,
   "id": "d6b95b94",
   "metadata": {},
   "outputs": [
    {
     "name": "stdout",
     "output_type": "stream",
     "text": [
      "132810    0.0\n",
      "132811    0.0\n",
      "132812    NaN\n",
      "132813    0.0\n",
      "132814    NaN\n",
      "132815    NaN\n",
      "132816    NaN\n",
      "132817    0.0\n",
      "132818    NaN\n",
      "132819    NaN\n",
      "Name: CHARGING_STATUS, dtype: float64\n"
     ]
    }
   ],
   "source": [
    "## Convert Charging status to 0 is not charging, 1 if charging, and NaN if NF\n",
    "processed_compliance_matrix['CHARGING_STATUS'] = processed_compliance_matrix['CHARGING_STATUS'].apply(\n",
    "    lambda x: 1 if x == 'YES' else (0 if x == 'NO' else np.nan)\n",
    ")\n",
    "# Show the first few rows of the processed compliance matrix with the new CHARGING_STATUS column\n",
    "print(processed_compliance_matrix['CHARGING_STATUS'].head(10))"
   ]
  },
  {
   "cell_type": "code",
   "execution_count": 88,
   "id": "3b48dcc1",
   "metadata": {},
   "outputs": [
    {
     "name": "stdout",
     "output_type": "stream",
     "text": [
      "Distribution of CHARGING_STATUS including NaN values:\n",
      "CHARGING_STATUS\n",
      "0.0    44975\n",
      "1.0     6691\n",
      "Name: count, dtype: int64\n"
     ]
    }
   ],
   "source": [
    "## Get the distribution of the charghing status column, including NA values\n",
    "charging_status_counts = processed_compliance_matrix['CHARGING_STATUS'].value_counts()\n",
    "print(\"Distribution of CHARGING_STATUS including NaN values:\")\n",
    "print(charging_status_counts)"
   ]
  },
  {
   "cell_type": "markdown",
   "id": "1f400073",
   "metadata": {},
   "source": [
    "### Location data\n",
    "We process location data as home, work, school, others, and transit"
   ]
  },
  {
   "cell_type": "code",
   "execution_count": 89,
   "id": "e95f7000",
   "metadata": {},
   "outputs": [
    {
     "name": "stdout",
     "output_type": "stream",
     "text": [
      "Distribution of LOCATION_LABEL in percentage:\n",
      "LOCATION_LABEL\n",
      "['Home']                                 61.129771\n",
      "[]                                       16.660652\n",
      "NF                                       13.877400\n",
      "['Friend’s/Romantic partner’s place']     3.138561\n",
      "['Work']                                  2.176266\n",
      "['Family member’s place']                 0.739301\n",
      "['School/College']                        0.485774\n",
      "['Gym/Health club/Fitness center']        0.416378\n",
      "['Hotel/motel']                           0.391395\n",
      "['Restaurant/bar/cafe']                   0.355309\n",
      "['Store/shopping venue']                  0.127689\n",
      "['Other']                                 0.099931\n",
      "['Beach/pool']                            0.074948\n",
      "['Church/place of worship']               0.074948\n",
      "['Salon/barber/spa']                      0.063845\n",
      "['Park/Playground']                       0.049965\n",
      "['Medical clinic/Hospital']               0.045339\n",
      "['In car/vehicle/train']                  0.031460\n",
      "['Parking lot/structure']                 0.028684\n",
      "['Library/museum']                        0.020356\n",
      "['Transit center/bus stop']               0.012029\n",
      "Name: proportion, dtype: float64\n"
     ]
    }
   ],
   "source": [
    "## Get the distribution of location labels in %\n",
    "location_label_counts = processed_compliance_matrix['LOCATION_LABEL'].value_counts(normalize=True) * 100\n",
    "print(\"Distribution of LOCATION_LABEL in percentage:\")\n",
    "print(location_label_counts)"
   ]
  },
  {
   "cell_type": "code",
   "execution_count": 92,
   "id": "a679e9a6",
   "metadata": {},
   "outputs": [
    {
     "name": "stdout",
     "output_type": "stream",
     "text": [
      "132810    Transit\n",
      "132811    Transit\n",
      "132812    Transit\n",
      "132813    Transit\n",
      "132814    Transit\n",
      "132815    Transit\n",
      "132816    Transit\n",
      "132817    Transit\n",
      "132818    Transit\n",
      "132819    Transit\n",
      "Name: Location_Category, dtype: object\n"
     ]
    }
   ],
   "source": [
    "## Create a new column 'Location_Category' based on the 'LOCATION_LABEL' column.\n",
    "## The value is 'Home' if the location label is ['Home'], 'Work' if the location label is ['Work']\n",
    "## 'School' if the location label is ['School/College']\n",
    "## 'Transit' if the location label is either [] or ['Transit center/bus stop']\n",
    "## 'Other' if the location label is anything else.\n",
    "def categorize_location(location_label):\n",
    "    if location_label == \"['Home']\":\n",
    "        return 'Home'\n",
    "    elif location_label == \"['Work']\":\n",
    "        return 'Work'\n",
    "    elif location_label == \"['School/College']\":\n",
    "        return 'School'\n",
    "    elif location_label in [\"[]\", \"['Transit center/bus stop']\"]:\n",
    "        return 'Transit'\n",
    "    else:\n",
    "        return 'Other'\n",
    "\n",
    "# Apply the function to the 'LOCATION_LABEL' column\n",
    "processed_compliance_matrix['Location_Category'] = processed_compliance_matrix['LOCATION_LABEL'].apply(categorize_location)\n",
    "# Show the first few rows of the processed compliance matrix with the new Location_Category column\n",
    "print(processed_compliance_matrix['Location_Category'].head(10))"
   ]
  },
  {
   "cell_type": "code",
   "execution_count": 94,
   "id": "197ce98d",
   "metadata": {},
   "outputs": [
    {
     "name": "stdout",
     "output_type": "stream",
     "text": [
      "Distribution of Location_Category including NaN values:\n",
      "Location_Category\n",
      "Home       61.129771\n",
      "Other      19.535508\n",
      "Transit    16.672681\n",
      "Work        2.176266\n",
      "School      0.485774\n",
      "Name: proportion, dtype: float64\n"
     ]
    }
   ],
   "source": [
    "## Get the distribution of the location category column, including the NaN values\n",
    "location_category_counts = processed_compliance_matrix['Location_Category'].value_counts(normalize=True) * 100\n",
    "print(\"Distribution of Location_Category including NaN values:\")\n",
    "print(location_category_counts)"
   ]
  },
  {
   "cell_type": "code",
   "execution_count": 95,
   "id": "13856e74",
   "metadata": {},
   "outputs": [
    {
     "name": "stdout",
     "output_type": "stream",
     "text": [
      "Column names in the processed compliance matrix:\n",
      "Participant_ID\n",
      "Initial_Prompt_Date\n",
      "Prompt_Type\n",
      "Study_Mode\n",
      "Initial_Prompt_Local_Time\n",
      "Answer_Status\n",
      "Actual_Prompt_Local_Time\n",
      "First_Question_Completion_Unixtime\n",
      "UTC_Offset\n",
      "Reprompt_Num\n",
      "Line\n",
      "Actual_Prompt_Local_DateTime\n",
      "DAY_OF_THE_WEEK\n",
      "TIME_OF_THE_DAY\n",
      "DAYS_IN_THE_STUDY\n",
      "BATTERY_LEVEL\n",
      "CHARGING_STATUS\n",
      "match_time_battery\n",
      "LOCATION\n",
      "match_time_location\n",
      "DISTANCE_FROM_HOME\n",
      "LOCATION_LABEL\n",
      "SCREEN_STATUS\n",
      "match_time_screen\n",
      "WAKE_TIME\n",
      "SLEEP_TIME\n",
      "PHONE_LOCK\n",
      "LAST_USAGE_DURATION\n",
      "match_time_lock\n",
      "PARTS_OF_WAKING_HOUR\n",
      "PROXIMITY_TO_WAKE_TIME\n",
      "PROXIMITY_TO_SLEEP_TIME\n",
      "mims_summary_1min\n",
      "num_readings_1min\n",
      "start_time_1min\n",
      "mims_summary_2min\n",
      "num_readings_2min\n",
      "start_time_2min\n",
      "mims_summary_3min\n",
      "num_readings_3min\n",
      "start_time_3min\n",
      "mims_summary_4min\n",
      "num_readings_4min\n",
      "start_time_4min\n",
      "mims_summary_5min\n",
      "num_readings_5min\n",
      "start_time_5min\n",
      "mims_summary_6min\n",
      "num_readings_6min\n",
      "start_time_6min\n",
      "mims_summary_7min\n",
      "num_readings_7min\n",
      "start_time_7min\n",
      "mims_summary_8min\n",
      "num_readings_8min\n",
      "start_time_8min\n",
      "mims_summary_9min\n",
      "num_readings_9min\n",
      "start_time_9min\n",
      "mims_summary_10min\n",
      "num_readings_10min\n",
      "start_time_10min\n",
      "Outcome\n",
      "is_weekend\n",
      "Time_of_Day\n",
      "in_battery_saver_mode\n",
      "Location_Category\n"
     ]
    }
   ],
   "source": [
    "## get the column names in the processed compliance matrix\n",
    "print(\"Column names in the processed compliance matrix:\")\n",
    "for col in processed_compliance_matrix.columns:\n",
    "    print(col)"
   ]
  },
  {
   "cell_type": "markdown",
   "id": "326f1d6f",
   "metadata": {},
   "source": [
    "### Screen status\n",
    "We want to create a new screen status variable called screen_on."
   ]
  },
  {
   "cell_type": "code",
   "execution_count": 96,
   "id": "0bbffa38",
   "metadata": {},
   "outputs": [
    {
     "name": "stdout",
     "output_type": "stream",
     "text": [
      "Distribution of SCREEN_STATUS:\n",
      "SCREEN_STATUS\n",
      "Screen Off    75384\n",
      "Screen On     32691\n",
      "Name: count, dtype: int64\n"
     ]
    }
   ],
   "source": [
    "## Get the distribution of screen status column\n",
    "screen_status_counts = processed_compliance_matrix['SCREEN_STATUS'].value_counts()\n",
    "print(\"Distribution of SCREEN_STATUS:\")\n",
    "print(screen_status_counts)"
   ]
  },
  {
   "cell_type": "code",
   "execution_count": 97,
   "id": "adef9a8a",
   "metadata": {},
   "outputs": [
    {
     "name": "stdout",
     "output_type": "stream",
     "text": [
      "132810    0\n",
      "132811    0\n",
      "132812    0\n",
      "132813    0\n",
      "132814    0\n",
      "132815    0\n",
      "132816    1\n",
      "132817    1\n",
      "132818    1\n",
      "132819    0\n",
      "Name: screen_on, dtype: int64\n"
     ]
    }
   ],
   "source": [
    "## Convert the screen status to a new variable called screen_on.\n",
    "## The value is 1 if the screen status is 'ON', else 0.\n",
    "processed_compliance_matrix['screen_on'] = processed_compliance_matrix['SCREEN_STATUS'].apply(\n",
    "    lambda x: 1 if x == 'Screen On' else 0\n",
    ")\n",
    "# Show the first few rows of the processed compliance matrix with the new screen_on column\n",
    "print(processed_compliance_matrix['screen_on'].head(10))"
   ]
  },
  {
   "cell_type": "code",
   "execution_count": 99,
   "id": "befd3345",
   "metadata": {},
   "outputs": [
    {
     "name": "stdout",
     "output_type": "stream",
     "text": [
      "Distribution of screen_on:\n",
      "screen_on\n",
      "0    69.751561\n",
      "1    30.248439\n",
      "Name: proportion, dtype: float64\n"
     ]
    }
   ],
   "source": [
    "## Get the distribution of screen on column\n",
    "screen_on_counts = processed_compliance_matrix['screen_on'].value_counts(normalize=True) * 100\n",
    "print(\"Distribution of screen_on:\")\n",
    "print(screen_on_counts)"
   ]
  }
 ],
 "metadata": {
  "kernelspec": {
   "display_name": ".venv",
   "language": "python",
   "name": "python3"
  },
  "language_info": {
   "codemirror_mode": {
    "name": "ipython",
    "version": 3
   },
   "file_extension": ".py",
   "mimetype": "text/x-python",
   "name": "python",
   "nbconvert_exporter": "python",
   "pygments_lexer": "ipython3",
   "version": "3.13.5"
  }
 },
 "nbformat": 4,
 "nbformat_minor": 5
}
