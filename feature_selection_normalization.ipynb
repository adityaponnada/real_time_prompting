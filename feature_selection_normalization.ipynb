{
 "cells": [
  {
   "cell_type": "markdown",
   "id": "2f70a498",
   "metadata": {},
   "source": [
    "## Import libraries\n",
    "Import libraries to perform one hot coding and rescaling of features"
   ]
  },
  {
   "cell_type": "code",
   "execution_count": 2,
   "id": "0e177bb5",
   "metadata": {},
   "outputs": [],
   "source": [
    "## Import librariries\n",
    "import sys, os\n",
    "import numpy as np\n",
    "import pandas as pd\n",
    "from sklearn.preprocessing import OneHotEncoder, StandardScaler, MinMaxScaler\n",
    "from sklearn.compose import ColumnTransformer\n",
    "from sklearn.pipeline import Pipeline\n",
    "from joblib import dump, load\n",
    "import pickle\n",
    "from typing import List, Tuple\n",
    "from datetime import datetime\n",
    "from dateutil import parser"
   ]
  }
 ],
 "metadata": {
  "kernelspec": {
   "display_name": ".venv",
   "language": "python",
   "name": "python3"
  },
  "language_info": {
   "codemirror_mode": {
    "name": "ipython",
    "version": 3
   },
   "file_extension": ".py",
   "mimetype": "text/x-python",
   "name": "python",
   "nbconvert_exporter": "python",
   "pygments_lexer": "ipython3",
   "version": "3.13.5"
  }
 },
 "nbformat": 4,
 "nbformat_minor": 5
}
