{
 "cells": [
  {
   "cell_type": "markdown",
   "id": "2ae089db",
   "metadata": {},
   "source": [
    "## Import libraries"
   ]
  },
  {
   "cell_type": "code",
   "execution_count": 1,
   "id": "33912e59",
   "metadata": {},
   "outputs": [],
   "source": [
    "## Import libraries for machine learning and data processing\n",
    "import pandas as pd\n",
    "import numpy as np\n",
    "from sklearn.model_selection import train_test_split\n",
    "from sklearn.preprocessing import StandardScaler\n",
    "from sklearn.linear_model import LogisticRegression\n",
    "from sklearn.metrics import accuracy_score, classification_report, confusion_matrix\n",
    "import matplotlib.pyplot as plt\n",
    "import seaborn as sns\n",
    "## For random forest\n",
    "from sklearn.ensemble import RandomForestClassifier\n",
    "from sklearn.feature_selection import SelectFromModel\n",
    "from sklearn.pipeline import Pipeline\n",
    "from sklearn.compose import ColumnTransformer\n",
    "from sklearn.impute import SimpleImputer\n",
    "from sklearn.preprocessing import OneHotEncoder, StandardScaler"
   ]
  },
  {
   "cell_type": "markdown",
   "id": "25f4a070",
   "metadata": {},
   "source": [
    "## Import data file\n",
    "Also contains one hot coded features and scaled features"
   ]
  },
  {
   "cell_type": "code",
   "execution_count": 2,
   "id": "6c1f4c08",
   "metadata": {},
   "outputs": [
    {
     "data": {
      "text/html": [
       "<div>\n",
       "<style scoped>\n",
       "    .dataframe tbody tr th:only-of-type {\n",
       "        vertical-align: middle;\n",
       "    }\n",
       "\n",
       "    .dataframe tbody tr th {\n",
       "        vertical-align: top;\n",
       "    }\n",
       "\n",
       "    .dataframe thead th {\n",
       "        text-align: right;\n",
       "    }\n",
       "</style>\n",
       "<table border=\"1\" class=\"dataframe\">\n",
       "  <thead>\n",
       "    <tr style=\"text-align: right;\">\n",
       "      <th></th>\n",
       "      <th>participant_id</th>\n",
       "      <th>outcome</th>\n",
       "      <th>is_weekend</th>\n",
       "      <th>in_battery_saver_mode</th>\n",
       "      <th>charging_status</th>\n",
       "      <th>screen_on</th>\n",
       "      <th>dist_from_home</th>\n",
       "      <th>is_phone_locked</th>\n",
       "      <th>last_phone_usage</th>\n",
       "      <th>closeness_to_sleep_time</th>\n",
       "      <th>...</th>\n",
       "      <th>time_of_day_Night</th>\n",
       "      <th>location_category_Home</th>\n",
       "      <th>location_category_Other</th>\n",
       "      <th>location_category_School</th>\n",
       "      <th>location_category_Transit</th>\n",
       "      <th>location_category_Work</th>\n",
       "      <th>wake_day_part_0.0</th>\n",
       "      <th>wake_day_part_1.0</th>\n",
       "      <th>wake_day_part_2.0</th>\n",
       "      <th>wake_day_part_3.0</th>\n",
       "    </tr>\n",
       "  </thead>\n",
       "  <tbody>\n",
       "    <tr>\n",
       "      <th>0</th>\n",
       "      <td>certifiedembargobartender@timestudy_com</td>\n",
       "      <td>1</td>\n",
       "      <td>1</td>\n",
       "      <td>0.0</td>\n",
       "      <td>0.0</td>\n",
       "      <td>1</td>\n",
       "      <td>0.995567</td>\n",
       "      <td>0.0</td>\n",
       "      <td>0.000000</td>\n",
       "      <td>0.891772</td>\n",
       "      <td>...</td>\n",
       "      <td>0</td>\n",
       "      <td>0</td>\n",
       "      <td>0</td>\n",
       "      <td>0</td>\n",
       "      <td>1</td>\n",
       "      <td>0</td>\n",
       "      <td>1</td>\n",
       "      <td>0</td>\n",
       "      <td>0</td>\n",
       "      <td>0</td>\n",
       "    </tr>\n",
       "    <tr>\n",
       "      <th>1</th>\n",
       "      <td>certifiedembargobartender@timestudy_com</td>\n",
       "      <td>1</td>\n",
       "      <td>1</td>\n",
       "      <td>NaN</td>\n",
       "      <td>NaN</td>\n",
       "      <td>1</td>\n",
       "      <td>0.995567</td>\n",
       "      <td>0.0</td>\n",
       "      <td>0.000000</td>\n",
       "      <td>0.883542</td>\n",
       "      <td>...</td>\n",
       "      <td>0</td>\n",
       "      <td>0</td>\n",
       "      <td>0</td>\n",
       "      <td>0</td>\n",
       "      <td>1</td>\n",
       "      <td>0</td>\n",
       "      <td>1</td>\n",
       "      <td>0</td>\n",
       "      <td>0</td>\n",
       "      <td>0</td>\n",
       "    </tr>\n",
       "    <tr>\n",
       "      <th>2</th>\n",
       "      <td>certifiedembargobartender@timestudy_com</td>\n",
       "      <td>0</td>\n",
       "      <td>1</td>\n",
       "      <td>0.0</td>\n",
       "      <td>1.0</td>\n",
       "      <td>0</td>\n",
       "      <td>NaN</td>\n",
       "      <td>1.0</td>\n",
       "      <td>0.301667</td>\n",
       "      <td>0.852631</td>\n",
       "      <td>...</td>\n",
       "      <td>0</td>\n",
       "      <td>0</td>\n",
       "      <td>1</td>\n",
       "      <td>0</td>\n",
       "      <td>0</td>\n",
       "      <td>0</td>\n",
       "      <td>1</td>\n",
       "      <td>0</td>\n",
       "      <td>0</td>\n",
       "      <td>0</td>\n",
       "    </tr>\n",
       "    <tr>\n",
       "      <th>3</th>\n",
       "      <td>certifiedembargobartender@timestudy_com</td>\n",
       "      <td>1</td>\n",
       "      <td>1</td>\n",
       "      <td>0.0</td>\n",
       "      <td>1.0</td>\n",
       "      <td>1</td>\n",
       "      <td>0.995567</td>\n",
       "      <td>0.0</td>\n",
       "      <td>0.000000</td>\n",
       "      <td>0.844384</td>\n",
       "      <td>...</td>\n",
       "      <td>0</td>\n",
       "      <td>0</td>\n",
       "      <td>0</td>\n",
       "      <td>0</td>\n",
       "      <td>1</td>\n",
       "      <td>0</td>\n",
       "      <td>1</td>\n",
       "      <td>0</td>\n",
       "      <td>0</td>\n",
       "      <td>0</td>\n",
       "    </tr>\n",
       "    <tr>\n",
       "      <th>4</th>\n",
       "      <td>certifiedembargobartender@timestudy_com</td>\n",
       "      <td>1</td>\n",
       "      <td>1</td>\n",
       "      <td>NaN</td>\n",
       "      <td>NaN</td>\n",
       "      <td>0</td>\n",
       "      <td>0.995705</td>\n",
       "      <td>1.0</td>\n",
       "      <td>0.150000</td>\n",
       "      <td>0.831944</td>\n",
       "      <td>...</td>\n",
       "      <td>0</td>\n",
       "      <td>0</td>\n",
       "      <td>0</td>\n",
       "      <td>0</td>\n",
       "      <td>1</td>\n",
       "      <td>0</td>\n",
       "      <td>1</td>\n",
       "      <td>0</td>\n",
       "      <td>0</td>\n",
       "      <td>0</td>\n",
       "    </tr>\n",
       "  </tbody>\n",
       "</table>\n",
       "<p>5 rows × 31 columns</p>\n",
       "</div>"
      ],
      "text/plain": [
       "                            participant_id  outcome  is_weekend  \\\n",
       "0  certifiedembargobartender@timestudy_com        1           1   \n",
       "1  certifiedembargobartender@timestudy_com        1           1   \n",
       "2  certifiedembargobartender@timestudy_com        0           1   \n",
       "3  certifiedembargobartender@timestudy_com        1           1   \n",
       "4  certifiedembargobartender@timestudy_com        1           1   \n",
       "\n",
       "   in_battery_saver_mode  charging_status  screen_on  dist_from_home  \\\n",
       "0                    0.0              0.0          1        0.995567   \n",
       "1                    NaN              NaN          1        0.995567   \n",
       "2                    0.0              1.0          0             NaN   \n",
       "3                    0.0              1.0          1        0.995567   \n",
       "4                    NaN              NaN          0        0.995705   \n",
       "\n",
       "   is_phone_locked  last_phone_usage  closeness_to_sleep_time  ...  \\\n",
       "0              0.0          0.000000                 0.891772  ...   \n",
       "1              0.0          0.000000                 0.883542  ...   \n",
       "2              1.0          0.301667                 0.852631  ...   \n",
       "3              0.0          0.000000                 0.844384  ...   \n",
       "4              1.0          0.150000                 0.831944  ...   \n",
       "\n",
       "   time_of_day_Night  location_category_Home  location_category_Other  \\\n",
       "0                  0                       0                        0   \n",
       "1                  0                       0                        0   \n",
       "2                  0                       0                        1   \n",
       "3                  0                       0                        0   \n",
       "4                  0                       0                        0   \n",
       "\n",
       "   location_category_School  location_category_Transit  \\\n",
       "0                         0                          1   \n",
       "1                         0                          1   \n",
       "2                         0                          0   \n",
       "3                         0                          1   \n",
       "4                         0                          1   \n",
       "\n",
       "   location_category_Work  wake_day_part_0.0  wake_day_part_1.0  \\\n",
       "0                       0                  1                  0   \n",
       "1                       0                  1                  0   \n",
       "2                       0                  1                  0   \n",
       "3                       0                  1                  0   \n",
       "4                       0                  1                  0   \n",
       "\n",
       "   wake_day_part_2.0  wake_day_part_3.0  \n",
       "0                  0                  0  \n",
       "1                  0                  0  \n",
       "2                  0                  0  \n",
       "3                  0                  0  \n",
       "4                  0                  0  \n",
       "\n",
       "[5 rows x 31 columns]"
      ]
     },
     "execution_count": 2,
     "metadata": {},
     "output_type": "execute_result"
    }
   ],
   "source": [
    "## import dataset\n",
    "raw_feature_df_scaled = pd.read_csv('/Users/adityaponnada/Downloads/time_study_data/processed_features_v1.csv')\n",
    "## Display the first few rows of the dataset\n",
    "raw_feature_df_scaled.head()"
   ]
  },
  {
   "cell_type": "code",
   "execution_count": 3,
   "id": "7fc00ece",
   "metadata": {},
   "outputs": [
    {
     "name": "stdout",
     "output_type": "stream",
     "text": [
      "Number of unique participants: 10\n",
      "Dataset shape: 108075 rows, 31 columns\n"
     ]
    },
    {
     "data": {
      "text/plain": [
       "participant_id                object\n",
       "outcome                        int64\n",
       "is_weekend                     int64\n",
       "in_battery_saver_mode        float64\n",
       "charging_status              float64\n",
       "screen_on                      int64\n",
       "dist_from_home               float64\n",
       "is_phone_locked              float64\n",
       "last_phone_usage             float64\n",
       "closeness_to_sleep_time      float64\n",
       "closeness_to_wake_time       float64\n",
       "mims_5min                    float64\n",
       "days_in_study                float64\n",
       "completion_24h               float64\n",
       "completion_since_wake        float64\n",
       "completion_since_start       float64\n",
       "time_of_day_Afternoon          int64\n",
       "time_of_day_Early Morning      int64\n",
       "time_of_day_Evening            int64\n",
       "time_of_day_Late Night         int64\n",
       "time_of_day_Morning            int64\n",
       "time_of_day_Night              int64\n",
       "location_category_Home         int64\n",
       "location_category_Other        int64\n",
       "location_category_School       int64\n",
       "location_category_Transit      int64\n",
       "location_category_Work         int64\n",
       "wake_day_part_0.0              int64\n",
       "wake_day_part_1.0              int64\n",
       "wake_day_part_2.0              int64\n",
       "wake_day_part_3.0              int64\n",
       "dtype: object"
      ]
     },
     "execution_count": 3,
     "metadata": {},
     "output_type": "execute_result"
    }
   ],
   "source": [
    "## Inspect the number of unique participant_ids\n",
    "num_participants = raw_feature_df_scaled['participant_id'].nunique()\n",
    "print(f\"Number of unique participants: {num_participants}\")\n",
    "\n",
    "## Check the shape of the dataset\n",
    "num_rows, num_cols = raw_feature_df_scaled.shape\n",
    "print(f\"Dataset shape: {num_rows} rows, {num_cols} columns\")\n",
    "\n",
    "## Inspect the data typpes of all columns, except participant_id\n",
    "raw_feature_df_scaled.dtypes"
   ]
  },
  {
   "cell_type": "markdown",
   "id": "552233df",
   "metadata": {},
   "source": [
    "## Prepare test and training set\n",
    "We will keep random 8 users in training set and the two users in test set"
   ]
  },
  {
   "cell_type": "code",
   "execution_count": 4,
   "id": "dcf54980",
   "metadata": {},
   "outputs": [
    {
     "name": "stdout",
     "output_type": "stream",
     "text": [
      "Train set shape: (88178, 31)\n",
      "Test set shape: (19897, 31)\n",
      "Train participant_ids: ['certifiedembargobartender@timestudy_com'\n",
      " 'chewingslouchingfailing@timestudy_com'\n",
      " 'enjoyergoofinessgrudge@timestudy_com'\n",
      " 'neutergoldfishsworn@timestudy_com' 'persevereriseswoop@timestudy_com'\n",
      " 'remoldexcludingaffair@timestudy_com'\n",
      " 'slapstickporcupineslacks@timestudy_com'\n",
      " 'subtitlegrievousbazooka@timestudy_com']\n",
      "Test participant_ids: ['erasuresafeguardravishing@timestudy_com'\n",
      " 'pretendedconstrainfraying@timestudy_com']\n"
     ]
    }
   ],
   "source": [
    "import numpy as np\n",
    "def split_train_test_by_participant_ids(df, id_col='participant_id', n_train=8, random_state=42):\n",
    "    \"\"\"\n",
    "    Randomly selects n_train participant_ids for training, the rest for testing.\n",
    "    Returns: train_df, test_df\n",
    "    \"\"\"\n",
    "    np.random.seed(random_state)\n",
    "    unique_ids = df[id_col].unique()\n",
    "    train_ids = np.random.choice(unique_ids, size=n_train, replace=False)\n",
    "    test_ids = [pid for pid in unique_ids if pid not in train_ids]\n",
    "    train_df = df[df[id_col].isin(train_ids)].reset_index(drop=True)\n",
    "    test_df = df[df[id_col].isin(test_ids)].reset_index(drop=True)\n",
    "    return train_df, test_df\n",
    "\n",
    "# Example usage:\n",
    "train_df, test_df = split_train_test_by_participant_ids(raw_feature_df_scaled)\n",
    "print(f\"Train set shape: {train_df.shape}\")\n",
    "print(f\"Test set shape: {test_df.shape}\")\n",
    "print(f\"Train participant_ids: {train_df['participant_id'].unique()}\")\n",
    "print(f\"Test participant_ids: {test_df['participant_id'].unique()}\")"
   ]
  },
  {
   "cell_type": "markdown",
   "id": "9eefe637",
   "metadata": {},
   "source": [
    "### Inspect the data distribution\n",
    "We will check number of observations and overall completion rates for each user in test and training dataset"
   ]
  },
  {
   "cell_type": "code",
   "execution_count": 5,
   "id": "f3cec49d",
   "metadata": {},
   "outputs": [
    {
     "name": "stdout",
     "output_type": "stream",
     "text": [
      "Train set summary:\n",
      "                            participant_id  n_observations  completion_rate\n",
      "0  certifiedembargobartender@timestudy_com           11555         0.804846\n",
      "1    chewingslouchingfailing@timestudy_com           13283         0.943913\n",
      "2     enjoyergoofinessgrudge@timestudy_com           10457         0.886488\n",
      "3        neutergoldfishsworn@timestudy_com            8724         0.885030\n",
      "4         persevereriseswoop@timestudy_com           12993         0.797045\n",
      "5      remoldexcludingaffair@timestudy_com            6426         0.737006\n",
      "6   slapstickporcupineslacks@timestudy_com           11437         0.967387\n",
      "7    subtitlegrievousbazooka@timestudy_com           13303         0.957604\n",
      "Test set summary:\n",
      "                            participant_id  n_observations  completion_rate\n",
      "0  erasuresafeguardravishing@timestudy_com            4457         0.700247\n",
      "1  pretendedconstrainfraying@timestudy_com           15440         0.841256\n"
     ]
    }
   ],
   "source": [
    "def participant_summary_stats(train_df, test_df, id_col='participant_id', outcome_col='outcome'):\n",
    "    \"\"\"\n",
    "    Returns two DataFrames:\n",
    "    1. For training set: participant_id, n_observations, completion_rate\n",
    "    2. For test set: participant_id, n_observations, completion_rate\n",
    "    \"\"\"\n",
    "    def summarize(df):\n",
    "        counts = df.groupby(id_col).size().rename('n_observations')\n",
    "        completion = df.groupby(id_col)[outcome_col].mean().rename('completion_rate')\n",
    "        summary = pd.concat([counts, completion], axis=1).reset_index()\n",
    "        return summary\n",
    "    train_summary = summarize(train_df)\n",
    "    test_summary = summarize(test_df)\n",
    "    return train_summary, test_summary\n",
    "\n",
    "# Example usage:\n",
    "train_summary, test_summary = participant_summary_stats(train_df, test_df)\n",
    "print('Train set summary:')\n",
    "print(train_summary)\n",
    "print('Test set summary:')\n",
    "print(test_summary)"
   ]
  },
  {
   "cell_type": "markdown",
   "id": "8230ea43",
   "metadata": {},
   "source": [
    "## Train a random forest classifier\n",
    "We will train it on the entire dataset of 8 users and then test it on 2 users."
   ]
  },
  {
   "cell_type": "code",
   "execution_count": 6,
   "id": "2b377570",
   "metadata": {},
   "outputs": [],
   "source": [
    "from sklearn.ensemble import RandomForestClassifier\n",
    "\n",
    "def train_random_forest_classifier(train_df, outcome_col='outcome', id_col='participant_id', random_state=42, **rf_kwargs):\n",
    "    \"\"\"\n",
    "    Trains a RandomForestClassifier on train_df, using all columns except outcome_col and id_col as features.\n",
    "    Uses class_weight='balanced' to handle class imbalance in the outcome variable.\n",
    "    Returns the trained model and the feature column names.\n",
    "    \"\"\"\n",
    "    feature_cols = [col for col in train_df.columns if col not in [outcome_col, id_col]]\n",
    "    X_train = train_df[feature_cols]\n",
    "    y_train = train_df[outcome_col]\n",
    "    clf = RandomForestClassifier(random_state=random_state, class_weight='balanced', **rf_kwargs)\n",
    "    clf.fit(X_train, y_train)\n",
    "    return clf, feature_cols\n",
    "\n",
    "# Example usage:\n",
    "rf_model, feature_cols = train_random_forest_classifier(train_df)"
   ]
  },
  {
   "cell_type": "markdown",
   "id": "289daca1",
   "metadata": {},
   "source": [
    "## Test the model\n",
    "On the remaining 2 participants."
   ]
  },
  {
   "cell_type": "code",
   "execution_count": 7,
   "id": "d98d19a4",
   "metadata": {},
   "outputs": [
    {
     "name": "stdout",
     "output_type": "stream",
     "text": [
      "Accuracy: 0.8245\n",
      "AUC: 0.7491\n",
      "Precision: 0.8416\n",
      "Recall: 0.9648\n",
      "F1 Score: 0.8990\n"
     ]
    }
   ],
   "source": [
    "from sklearn.metrics import accuracy_score, roc_auc_score, precision_score, recall_score, f1_score\n",
    "\n",
    "def evaluate_random_forest_model(model, test_df, feature_cols, outcome_col='outcome'):\n",
    "    \"\"\"\n",
    "    Evaluates the RandomForest model on test_df and returns accuracy, AUC, precision, recall, and F1 scores.\n",
    "    \"\"\"\n",
    "    X_test = test_df[feature_cols]\n",
    "    y_test = test_df[outcome_col]\n",
    "    y_pred = model.predict(X_test)\n",
    "    y_proba = model.predict_proba(X_test)[:, 1] if hasattr(model, 'predict_proba') else None\n",
    "\n",
    "    acc = accuracy_score(y_test, y_pred)\n",
    "    auc = roc_auc_score(y_test, y_proba) if y_proba is not None else None\n",
    "    precision = precision_score(y_test, y_pred, zero_division=0)\n",
    "    recall = recall_score(y_test, y_pred, zero_division=0)\n",
    "    f1 = f1_score(y_test, y_pred, zero_division=0)\n",
    "\n",
    "    print(f\"Accuracy: {acc:.4f}\")\n",
    "    print(f\"AUC: {auc:.4f}\" if auc is not None else \"AUC: Not available\")\n",
    "    print(f\"Precision: {precision:.4f}\")\n",
    "    print(f\"Recall: {recall:.4f}\")\n",
    "    print(f\"F1 Score: {f1:.4f}\")\n",
    "    return {'accuracy': acc, 'auc': auc, 'precision': precision, 'recall': recall, 'f1': f1}\n",
    "\n",
    "# Example usage:\n",
    "metrics = evaluate_random_forest_model(rf_model, test_df, feature_cols)"
   ]
  },
  {
   "cell_type": "code",
   "execution_count": 8,
   "id": "c71d99b8",
   "metadata": {},
   "outputs": [
    {
     "data": {
      "image/png": "[encoded data removed]",
      "text/plain": [
       "<Figure size 700x600 with 1 Axes>"
      ]
     },
     "metadata": {},
     "output_type": "display_data"
    },
    {
     "name": "stdout",
     "output_type": "stream",
     "text": [
      "AUC: 0.7491\n"
     ]
    }
   ],
   "source": [
    "from sklearn.metrics import roc_curve, roc_auc_score, accuracy_score\n",
    "import matplotlib.pyplot as plt\n",
    "\n",
    "def plot_roc_curve(model, test_df, feature_cols, outcome_col='outcome'):\n",
    "    \"\"\"\n",
    "    Plots the ROC curve for the model on the test set and prints the AUC.\n",
    "    \"\"\"\n",
    "    X_test = test_df[feature_cols]\n",
    "    y_test = test_df[outcome_col]\n",
    "    y_proba = model.predict_proba(X_test)[:, 1] if hasattr(model, 'predict_proba') else None\n",
    "    if y_proba is None:\n",
    "        raise ValueError('Model does not support probability prediction.')\n",
    "    fpr, tpr, _ = roc_curve(y_test, y_proba)\n",
    "    auc = roc_auc_score(y_test, y_proba)\n",
    "    plt.figure(figsize=(7, 6))\n",
    "    plt.plot(fpr, tpr, label=f'ROC curve (AUC={auc:.2f})', color='blue')\n",
    "    plt.plot([0, 1], [0, 1], 'k:', label='Chance')\n",
    "    plt.xlabel('False Positive Rate')\n",
    "    plt.ylabel('True Positive Rate')\n",
    "    plt.title('ROC Curve')\n",
    "    plt.legend(loc='lower right')\n",
    "    plt.tight_layout()\n",
    "    plt.show()\n",
    "    print(f'AUC: {auc:.4f}')\n",
    "\n",
    "# Example usage:\n",
    "plot_roc_curve(rf_model, test_df, feature_cols)"
   ]
  },
  {
   "cell_type": "code",
   "execution_count": 9,
   "id": "c71459d0",
   "metadata": {},
   "outputs": [
    {
     "data": {
      "image/png": "[encoded data removed]",
      "text/plain": [
       "<Figure size 500x400 with 2 Axes>"
      ]
     },
     "metadata": {},
     "output_type": "display_data"
    }
   ],
   "source": [
    "from sklearn.metrics import confusion_matrix\n",
    "import seaborn as sns\n",
    "import matplotlib.pyplot as plt\n",
    "\n",
    "def plot_confusion_matrix(model, test_df, feature_cols, outcome_col='outcome'):\n",
    "    \"\"\"\n",
    "    Plots the normalized confusion matrix for predicted and ground truth labels on test_df.\n",
    "    \"\"\"\n",
    "    X_test = test_df[feature_cols]\n",
    "    y_test = test_df[outcome_col]\n",
    "    y_pred = model.predict(X_test)\n",
    "    cm = confusion_matrix(y_test, y_pred, normalize='true')\n",
    "    plt.figure(figsize=(5, 4))\n",
    "    sns.heatmap(cm, annot=True, fmt='.2f', cmap='Blues', xticklabels=[0,1], yticklabels=[0,1])\n",
    "    plt.xlabel('Predicted Label')\n",
    "    plt.ylabel('True Label')\n",
    "    plt.title('Normalized Confusion Matrix')\n",
    "    plt.tight_layout()\n",
    "    plt.show()\n",
    "\n",
    "# Example usage:\n",
    "plot_confusion_matrix(rf_model, test_df, feature_cols)"
   ]
  },
  {
   "cell_type": "code",
   "execution_count": 10,
   "id": "46101413",
   "metadata": {},
   "outputs": [
    {
     "name": "stdout",
     "output_type": "stream",
     "text": [
      "Class 0 Precision: 0.6032\n",
      "Class 0 Recall: 0.2276\n",
      "Class 0 F1 Score: 0.3305\n"
     ]
    },
    {
     "data": {
      "text/plain": [
       "{'precision_0': 0.6032190342897131,\n",
       " 'recall_0': 0.22762080802746237,\n",
       " 'f1_0': 0.330521472392638}"
      ]
     },
     "execution_count": 10,
     "metadata": {},
     "output_type": "execute_result"
    }
   ],
   "source": [
    "from sklearn.metrics import precision_score, recall_score, f1_score\n",
    "\n",
    "def compute_class0_metrics(model, test_df, feature_cols, outcome_col='outcome'):\n",
    "    \"\"\"\n",
    "    Computes and prints precision, recall, and F1 score for class 0 (negative class).\n",
    "    \"\"\"\n",
    "    X_test = test_df[feature_cols]\n",
    "    y_test = test_df[outcome_col]\n",
    "    y_pred = model.predict(X_test)\n",
    "    precision_0 = precision_score(y_test, y_pred, pos_label=0, zero_division=0)\n",
    "    recall_0 = recall_score(y_test, y_pred, pos_label=0, zero_division=0)\n",
    "    f1_0 = f1_score(y_test, y_pred, pos_label=0, zero_division=0)\n",
    "    print(f\"Class 0 Precision: {precision_0:.4f}\")\n",
    "    print(f\"Class 0 Recall: {recall_0:.4f}\")\n",
    "    print(f\"Class 0 F1 Score: {f1_0:.4f}\")\n",
    "    return {'precision_0': precision_0, 'recall_0': recall_0, 'f1_0': f1_0}\n",
    "\n",
    "# Example usage:\n",
    "compute_class0_metrics(rf_model, test_df, feature_cols)"
   ]
  },
  {
   "cell_type": "code",
   "execution_count": 11,
   "id": "17f854f6",
   "metadata": {},
   "outputs": [
    {
     "data": {
      "image/png": "[encoded data removed]",
      "text/plain": [
       "<Figure size 800x600 with 1 Axes>"
      ]
     },
     "metadata": {},
     "output_type": "display_data"
    }
   ],
   "source": [
    "from sklearn.model_selection import learning_curve\n",
    "import matplotlib.pyplot as plt\n",
    "import numpy as np\n",
    "\n",
    "def plot_learning_curve(model, X, y, cv=5, scoring='accuracy', train_sizes=np.linspace(0.1, 1.0, 10), random_state=42):\n",
    "    \"\"\"\n",
    "    Plots the learning curve for the given model and data.\n",
    "    \"\"\"\n",
    "    train_sizes, train_scores, test_scores = learning_curve(\n",
    "        model, X, y, cv=cv, scoring=scoring, train_sizes=train_sizes, random_state=random_state)\n",
    "    train_scores_mean = np.mean(train_scores, axis=1)\n",
    "    train_scores_std = np.std(train_scores, axis=1)\n",
    "    test_scores_mean = np.mean(test_scores, axis=1)\n",
    "    test_scores_std = np.std(test_scores, axis=1)\n",
    "\n",
    "    plt.figure(figsize=(8, 6))\n",
    "    plt.plot(train_sizes, train_scores_mean, 'o-', color='r', label='Training score')\n",
    "    plt.plot(train_sizes, test_scores_mean, 'o-', color='g', label='Cross-validation score')\n",
    "    plt.fill_between(train_sizes, train_scores_mean - train_scores_std, train_scores_mean + train_scores_std, alpha=0.1, color='r')\n",
    "    plt.fill_between(train_sizes, test_scores_mean - test_scores_std, test_scores_mean + test_scores_std, alpha=0.1, color='g')\n",
    "    plt.title('Learning Curve for Random Forest')\n",
    "    plt.xlabel('Training examples')\n",
    "    plt.ylabel(scoring.capitalize())\n",
    "    plt.legend(loc='best')\n",
    "    plt.grid(True)\n",
    "    plt.tight_layout()\n",
    "    plt.show()\n",
    "\n",
    "# Example usage:\n",
    "X = train_df[feature_cols]\n",
    "y = train_df['outcome']\n",
    "plot_learning_curve(rf_model, X, y)"
   ]
  }
 ],
 "metadata": {
  "kernelspec": {
   "display_name": ".venv",
   "language": "python",
   "name": "python3"
  },
  "language_info": {
   "codemirror_mode": {
    "name": "ipython",
    "version": 3
   },
   "file_extension": ".py",
   "mimetype": "text/x-python",
   "name": "python",
   "nbconvert_exporter": "python",
   "pygments_lexer": "ipython3",
   "version": "3.13.5"
  }
 },
 "nbformat": 4,
 "nbformat_minor": 5
}
